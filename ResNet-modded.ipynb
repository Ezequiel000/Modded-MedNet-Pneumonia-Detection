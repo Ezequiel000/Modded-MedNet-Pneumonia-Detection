{
 "cells": [
  {
   "cell_type": "code",
   "execution_count": 1,
   "id": "3fc4c2a7-4c1d-4ba7-8f48-fc5b26f2c674",
   "metadata": {},
   "outputs": [],
   "source": [
    "import os\n",
    "import sys\n",
    "import numpy as np\n",
    "import torch \n",
    "import torch.nn as nn\n",
    "import torch.optim as optim\n",
    "from torch.utils.data import Dataset, DataLoader\n",
    "import torchvision.transforms as transforms\n",
    "import nibabel as nib\n",
    "from scipy import ndimage"
   ]
  },
  {
   "cell_type": "code",
   "execution_count": 2,
   "id": "c1aa1fa4-c8cd-4b53-8640-dad184c4322e",
   "metadata": {
    "tags": []
   },
   "outputs": [
    {
     "name": "stdout",
     "output_type": "stream",
     "text": [
      "CUDA available: True\n",
      "Number of GPUs: 1\n"
     ]
    }
   ],
   "source": [
    "print(\"CUDA available:\", torch.cuda.is_available())\n",
    "print(\"Number of GPUs:\", torch.cuda.device_count())"
   ]
  },
  {
   "cell_type": "code",
   "execution_count": 3,
   "id": "5d837c6b-70af-4153-b336-f615f7ed1968",
   "metadata": {},
   "outputs": [],
   "source": [
    "\n",
    "def read_nifti_file(filepath):\n",
    "    \"\"\"Read and load volume\"\"\"\n",
    "    scan = nib.load(filepath)\n",
    "    scan = scan.get_fdata()\n",
    "    return scan\n",
    "\n",
    "def normalize(volume):\n",
    "    min = -1000\n",
    "    max = 400\n",
    "    volume[volume < min] = min\n",
    "    volume[volume > max] = max\n",
    "    volume = (volume - min) / (max - min)\n",
    "    volume = volume.astype(\"float32\")\n",
    "    return volume\n",
    "\n",
    "def resize_volume(img):\n",
    "    desired_depth = 64\n",
    "    desired_width = 128\n",
    "    desired_height = 128\n",
    "    current_depth = img.shape[-1]\n",
    "    current_width = img.shape[0]\n",
    "    current_height = img.shape[1]\n",
    "    depth = current_depth / desired_depth\n",
    "    width = current_width / desired_width\n",
    "    height = current_height / desired_height\n",
    "    depth_factor = 1 / depth\n",
    "    width_factor = 1 / width\n",
    "    height_factor = 1 / height\n",
    "    img = ndimage.rotate(img, 90, reshape=False)\n",
    "    img = ndimage.zoom(img, (width_factor, height_factor, depth_factor), order=1)\n",
    "    return img\n",
    "\n",
    "def process_scan(path):\n",
    "    volume = read_nifti_file(path)\n",
    "    volume = normalize(volume)\n",
    "    volume = resize_volume(volume)\n",
    "    return volume"
   ]
  },
  {
   "cell_type": "code",
   "execution_count": 4,
   "id": "e9d40b4a-b82c-4a65-a8ee-ea9625fd2842",
   "metadata": {},
   "outputs": [
    {
     "name": "stdout",
     "output_type": "stream",
     "text": [
      "CT scans with normal lung tissue: 254\n",
      "CT scans with abnormal lung tissue: 856\n"
     ]
    }
   ],
   "source": [
    "normal_scan_paths = [\n",
    "    os.path.join(os.getcwd(), \"MosMedData/CT-0\", x)\n",
    "    for x in os.listdir(\"MosMedData/CT-0\")if x[-1] == 'z'\n",
    "]\n",
    "abnormal_scan_paths = [\n",
    "    os.path.join(os.getcwd(), \"MosMedData/CT-23\", x)\n",
    "    for x in os.listdir(\"MosMedData/CT-23\")if x[-1] == 'z'\n",
    "]\n",
    "print(\"CT scans with normal lung tissue: \" + str(len(normal_scan_paths)))\n",
    "print(\"CT scans with abnormal lung tissue: \" + str(len(abnormal_scan_paths)))\n",
    "\n",
    "\n"
   ]
  },
  {
   "cell_type": "code",
   "execution_count": 5,
   "id": "201ffb93-c54e-4deb-94ef-f38dd7a87cbb",
   "metadata": {},
   "outputs": [],
   "source": [
    "# Read and process the scans.\n",
    "# Each scan is resized across height, width, and depth and rescaled.\n",
    "normal_scans = np.array([process_scan(path) for path in normal_scan_paths])\n",
    "# assign 1, for the normal ones assign 0.\n",
    "normal_labels = np.array([0 for _ in range(len(normal_scans))])\n",
    "norm_split = round(len(normal_scans) * .9 )"
   ]
  },
  {
   "cell_type": "code",
   "execution_count": 6,
   "id": "b02d625a-e36d-48bc-b87d-d4b6d25f0e5b",
   "metadata": {},
   "outputs": [],
   "source": [
    "abnormal_scans = np.array([process_scan(path) for path in abnormal_scan_paths])\n",
    "abnormal_labels = np.array([1 for _ in range(len(abnormal_scans))])\n",
    "abnorm_split = round(len(abnormal_scans) * .9 )"
   ]
  },
  {
   "cell_type": "code",
   "execution_count": 7,
   "id": "118f73f1",
   "metadata": {},
   "outputs": [
    {
     "name": "stdout",
     "output_type": "stream",
     "text": [
      "Normal scans in x train (229, 128, 128, 64)\n",
      "Normal scans in X val  (25, 128, 128, 64)\n",
      "Abormal scans in x train (770, 128, 128, 64)\n",
      "Abormal scans in X val  (86, 128, 128, 64)\n"
     ]
    }
   ],
   "source": [
    "print(\"Normal scans in x train\",normal_scans[:norm_split].shape)\n",
    "print(\"Normal scans in X val \",normal_scans[norm_split:].shape)\n",
    "\n",
    "print(\"Abormal scans in x train\",abnormal_scans[:abnorm_split].shape)\n",
    "print(\"Abormal scans in X val \",abnormal_scans[abnorm_split:].shape)\n"
   ]
  },
  {
   "cell_type": "code",
   "execution_count": 8,
   "id": "84ce3c79-f0b5-4932-8981-14068c05f81c",
   "metadata": {},
   "outputs": [],
   "source": [
    "# Split data in the ratio 70-30 for training and validation.\n",
    "x_train = np.concatenate((abnormal_scans[:abnorm_split], normal_scans[:norm_split]), axis=0)\n",
    "y_train = np.concatenate((abnormal_labels[:abnorm_split], normal_labels[:norm_split]), axis=0)\n",
    "x_val = np.concatenate((abnormal_scans[abnorm_split:], normal_scans[norm_split:]), axis=0)\n",
    "y_val = np.concatenate((abnormal_labels[abnorm_split:], normal_labels[norm_split:]), axis=0)"
   ]
  },
  {
   "cell_type": "code",
   "execution_count": 9,
   "id": "e5e07598",
   "metadata": {},
   "outputs": [
    {
     "name": "stdout",
     "output_type": "stream",
     "text": [
      "x train shape (999, 128, 128, 64)\n",
      "y train shape (999,)\n",
      "x val shape (111, 128, 128, 64)\n",
      "y val shape (111,)\n"
     ]
    }
   ],
   "source": [
    "print(\"x train shape\", x_train.shape)\n",
    "print(\"y train shape\", y_train.shape)\n",
    "print(\"x val shape\", x_val.shape)\n",
    "print(\"y val shape\", y_val.shape)"
   ]
  },
  {
   "cell_type": "code",
   "execution_count": 10,
   "id": "42dad850-7b7d-453a-b666-34f3ba5faf4c",
   "metadata": {
    "tags": []
   },
   "outputs": [
    {
     "name": "stdout",
     "output_type": "stream",
     "text": [
      "Shape of abnormal scans: (856, 128, 128, 64)\n",
      "Shape of normal scans: (254, 128, 128, 64)\n"
     ]
    }
   ],
   "source": [
    "print(\"Shape of abnormal scans:\", abnormal_scans.shape)\n",
    "print(\"Shape of normal scans:\", normal_scans.shape)\n"
   ]
  },
  {
   "cell_type": "code",
   "execution_count": 11,
   "id": "fa2dc19a-6974-40cb-9f78-85db15c87e5d",
   "metadata": {},
   "outputs": [],
   "source": [
    "class CTScansDataset(Dataset):\n",
    "    def __init__(self, x, y, transform=None):\n",
    "        self.x = x\n",
    "        self.y = y\n",
    "        self.transform = transform\n",
    "\n",
    "    def __len__(self):\n",
    "        return len(self.x)\n",
    "\n",
    "    def __getitem__(self, idx):\n",
    "        if torch.is_tensor(idx):\n",
    "            idx = idx.tolist()\n",
    "\n",
    "        image = self.x[idx]\n",
    "        label = self.y[idx]\n",
    "\n",
    "        if self.transform:\n",
    "            image = self.transform(image)\n",
    "        image = torch.from_numpy(image)\n",
    "        image = image.unsqueeze(0)\n",
    "\n",
    "        return (image, label)\n",
    "\n",
    "# class RandomRotation3D:\n",
    "#     def __init__(self, angles):\n",
    "#         self.angles = angles\n",
    "\n",
    "#     def __call__(self, image):\n",
    "#         angle = np.random.choice(self.angles)\n",
    "#         image = ndimage.rotate(image, angle, reshape=False)\n",
    "#         image[image < 0] = 0\n",
    "#         image[image > 1] = 1\n",
    "#         return image\n",
    "\n",
    "\n",
    "class NumpyToTensor:\n",
    "    def __call__(self, image):\n",
    "        return torch.from_numpy(image)"
   ]
  },
  {
   "cell_type": "code",
   "execution_count": 12,
   "id": "5853e545-3d6e-4f56-a181-868efab58485",
   "metadata": {},
   "outputs": [],
   "source": [
    "# train_transform = transforms.Compose([\n",
    "# RandomRotation3D(angles=[-20, -10, -5, 5, 10, 20]),\n",
    "# NumpyToTensor(),\n",
    "# ])\n",
    "\n",
    "# train_transform = transforms.Compose([\n",
    "# NumpyToTensor(),\n",
    "# ])\n",
    "# val_transform = transforms.Compose([\n",
    "# NumpyToTensor(),\n",
    "# ])\n",
    "\n",
    "\n",
    "train_transform = None\n",
    "val_transform = None \n",
    "\n",
    "train_dataset = CTScansDataset(x_train, y_train, transform=train_transform)\n",
    "val_dataset = CTScansDataset(x_val, y_val, transform=val_transform)\n",
    "\n",
    "batch_size = 4\n",
    "train_loader = DataLoader(train_dataset, batch_size=batch_size, shuffle=True)\n",
    "validation_loader = DataLoader(val_dataset, batch_size=batch_size, shuffle=True)"
   ]
  },
  {
   "cell_type": "code",
   "execution_count": 13,
   "id": "016b06ba-d632-489e-844b-d4ba0bae04c7",
   "metadata": {},
   "outputs": [],
   "source": [
    "from resnet import ResNet, BasicBlock\n",
    "\n",
    "\n",
    "class ModifiedResNet(ResNet):\n",
    "\n",
    "    def __init__(self, *args, **kwargs):\n",
    "        super(ModifiedResNet, self).__init__(*args, **kwargs)\n",
    "        \n",
    "        self.avgpool = nn.AdaptiveAvgPool3d(1)\n",
    "        self.fc = nn.Linear(512 * kwargs[\"block\"].expansion, 1)\n",
    "        self.dropout = nn.Dropout(0.1)\n",
    "\n",
    "    def forward(self, x):\n",
    "        x = self.conv1(x)\n",
    "        x = self.bn1(x)\n",
    "        x = self.relu(x)\n",
    "        x = self.maxpool(x)\n",
    "        x = self.layer1(x)\n",
    "        x = self.dropout(x) \n",
    "        x = self.layer2(x)\n",
    "        x = self.dropout(x) \n",
    "        x = self.layer3(x)\n",
    "        x = self.dropout(x) \n",
    "        x = self.layer4(x)\n",
    "        \n",
    "        x = self.avgpool(x)\n",
    "        x = torch.flatten(x, 1)\n",
    "        x = self.fc(x)\n",
    "        x = self.dropout(x) \n",
    "        x = torch.sigmoid(x)\n",
    "        \n",
    "        return x\n"
   ]
  },
  {
   "cell_type": "code",
   "execution_count": 14,
   "id": "d96bb2fc-3443-4a33-8cd9-7a577b7c3799",
   "metadata": {},
   "outputs": [
    {
     "name": "stdout",
     "output_type": "stream",
     "text": [
      "cuda\n"
     ]
    }
   ],
   "source": [
    "device = torch.device(\"cuda\" if torch.cuda.is_available() else \"cpu\")\n",
    "print(device)\n",
    "learning_rate = 0.0001\n",
    "# Create the model instance\n",
    "\n",
    "model = ModifiedResNet(block=BasicBlock, layers=[3, 4, 6, 3], sample_input_W=128, sample_input_H=128, sample_input_D=64, num_seg_classes=1).to(device)\n",
    "\n",
    "\n",
    "# Load the pre-trained model's state_dict\n",
    "pretrained_state_dict = torch.load(\"pretrain/resnet_34_23dataset.pth\")\n",
    "\n",
    "\n",
    "# Check if the state_dict is saved under the \"state_dict\" key and extract it\n",
    "if \"state_dict\" in pretrained_state_dict:\n",
    "    pretrained_state_dict = pretrained_state_dict[\"state_dict\"]\n",
    "\n",
    "\n",
    "# Remove 'module.' prefix from keys if it exists\n",
    "corrected_state_dict = {k.replace(\"module.\", \"\"): v for k, v in pretrained_state_dict.items()}\n",
    "\n",
    "\n",
    "# Find the keys present in both the pre-trained model and your ModifiedResNet model\n",
    "common_keys = set(corrected_state_dict.keys()) & set(model.state_dict().keys())\n",
    "\n",
    "\n",
    "# Create a new state_dict with only the common keys\n",
    "filtered_state_dict = {k: corrected_state_dict[k] for k in common_keys}\n",
    "\n",
    "\n",
    "# Load the filtered state_dict into your model, allowing for partial weights with strict=False\n",
    "model.load_state_dict(filtered_state_dict, strict=False)\n",
    "\n",
    "\n",
    "# # Wrap the model with DataParallel\n",
    "if torch.cuda.device_count() > 1:\n",
    "    model = torch.nn.DataParallel(model)\n",
    "\n",
    "\n",
    "criterion = nn.BCELoss()\n",
    "optimizer = torch.optim.Adam(model.parameters(), lr=learning_rate)\n",
    "# scheduler = torch.optim.lr_scheduler.ExponentialLR(optimizer, gamma=0.0001)\n",
    "scheduler = torch.optim.lr_scheduler.ExponentialLR(optimizer, gamma = 0.96)\n",
    "\n"
   ]
  },
  {
   "cell_type": "code",
   "execution_count": 15,
   "id": "32590344",
   "metadata": {},
   "outputs": [],
   "source": [
    "import matplotlib.pyplot as plt\n",
    "import seaborn as sns\n",
    "\n",
    "def plot_confusion_matrix(conf_matrix, class_names):\n",
    "    fig, ax = plt.subplots(figsize=(6, 6))\n",
    "    sns.heatmap(conf_matrix, annot=True, fmt=\"d\", cmap=\"Blues\", ax=ax, cbar=False)\n",
    "    ax.set_xlabel(\"Predicted\")\n",
    "    ax.set_ylabel(\"True\")\n",
    "    ax.set_xticklabels(class_names)\n",
    "    ax.set_yticklabels(class_names)\n",
    "    plt.close(fig)\n",
    "    return fig"
   ]
  },
  {
   "cell_type": "code",
   "execution_count": 17,
   "id": "16c08328-2364-4813-a95e-4ebcd8876dd8",
   "metadata": {},
   "outputs": [
    {
     "name": "stderr",
     "output_type": "stream",
     "text": [
      "Train Epoch 0: 100%|██████████| 250/250 [01:29<00:00,  2.80it/s]\n"
     ]
    },
    {
     "name": "stdout",
     "output_type": "stream",
     "text": [
      "Epoch 0/99, Train Loss: 0.5572, Train Accuracy: 0.7187\n"
     ]
    },
    {
     "name": "stderr",
     "output_type": "stream",
     "text": [
      "Val Epoch 0: 100%|██████████| 28/28 [00:04<00:00,  6.57it/s]\n"
     ]
    },
    {
     "name": "stdout",
     "output_type": "stream",
     "text": [
      "Confusion matrix for epoch 0:\n",
      "[[ 0 25]\n",
      " [ 0 86]]\n",
      "Epoch 0/99, Val F1 Score: 0.6765, Val Recall: 0.7748\n",
      "Epoch 0/99, Val Loss: 0.5300, Val Accuracy: 0.7748\n"
     ]
    },
    {
     "name": "stderr",
     "output_type": "stream",
     "text": [
      "Train Epoch 1: 100%|██████████| 250/250 [01:36<00:00,  2.60it/s]\n"
     ]
    },
    {
     "name": "stdout",
     "output_type": "stream",
     "text": [
      "Epoch 1/99, Train Loss: 0.5384, Train Accuracy: 0.7197\n"
     ]
    },
    {
     "name": "stderr",
     "output_type": "stream",
     "text": [
      "Val Epoch 1: 100%|██████████| 28/28 [00:03<00:00,  7.59it/s]\n"
     ]
    },
    {
     "name": "stdout",
     "output_type": "stream",
     "text": [
      "Confusion matrix for epoch 1:\n",
      "[[ 0 25]\n",
      " [ 0 86]]\n",
      "Epoch 1/99, Val F1 Score: 0.6765, Val Recall: 0.7748\n",
      "Epoch 1/99, Val Loss: 0.5146, Val Accuracy: 0.7748\n"
     ]
    },
    {
     "name": "stderr",
     "output_type": "stream",
     "text": [
      "Train Epoch 2: 100%|██████████| 250/250 [01:39<00:00,  2.52it/s]\n"
     ]
    },
    {
     "name": "stdout",
     "output_type": "stream",
     "text": [
      "Epoch 2/99, Train Loss: 0.5281, Train Accuracy: 0.7307\n"
     ]
    },
    {
     "name": "stderr",
     "output_type": "stream",
     "text": [
      "Val Epoch 2: 100%|██████████| 28/28 [00:04<00:00,  6.50it/s]\n"
     ]
    },
    {
     "name": "stdout",
     "output_type": "stream",
     "text": [
      "Confusion matrix for epoch 2:\n",
      "[[ 0 25]\n",
      " [ 0 86]]\n",
      "Epoch 2/99, Val F1 Score: 0.6765, Val Recall: 0.7748\n",
      "Epoch 2/99, Val Loss: 0.4531, Val Accuracy: 0.7748\n"
     ]
    },
    {
     "name": "stderr",
     "output_type": "stream",
     "text": [
      "Train Epoch 3: 100%|██████████| 250/250 [01:40<00:00,  2.48it/s]\n"
     ]
    },
    {
     "name": "stdout",
     "output_type": "stream",
     "text": [
      "Epoch 3/99, Train Loss: 0.5305, Train Accuracy: 0.7157\n"
     ]
    },
    {
     "name": "stderr",
     "output_type": "stream",
     "text": [
      "Val Epoch 3: 100%|██████████| 28/28 [00:04<00:00,  6.71it/s]\n"
     ]
    },
    {
     "name": "stdout",
     "output_type": "stream",
     "text": [
      "Confusion matrix for epoch 3:\n",
      "[[ 3 22]\n",
      " [ 0 86]]\n",
      "Epoch 3/99, Val F1 Score: 0.7352, Val Recall: 0.8018\n",
      "Epoch 3/99, Val Loss: 0.4553, Val Accuracy: 0.8018\n"
     ]
    },
    {
     "name": "stderr",
     "output_type": "stream",
     "text": [
      "Train Epoch 4: 100%|██████████| 250/250 [01:42<00:00,  2.44it/s]\n"
     ]
    },
    {
     "name": "stdout",
     "output_type": "stream",
     "text": [
      "Epoch 4/99, Train Loss: 0.5137, Train Accuracy: 0.7057\n"
     ]
    },
    {
     "name": "stderr",
     "output_type": "stream",
     "text": [
      "Val Epoch 4: 100%|██████████| 28/28 [00:04<00:00,  6.93it/s]\n"
     ]
    },
    {
     "name": "stdout",
     "output_type": "stream",
     "text": [
      "Confusion matrix for epoch 4:\n",
      "[[16  9]\n",
      " [19 67]]\n",
      "Epoch 4/99, Val F1 Score: 0.7610, Val Recall: 0.7477\n",
      "Epoch 4/99, Val Loss: 0.5295, Val Accuracy: 0.7477\n"
     ]
    },
    {
     "name": "stderr",
     "output_type": "stream",
     "text": [
      "Train Epoch 5: 100%|██████████| 250/250 [01:43<00:00,  2.43it/s]\n"
     ]
    },
    {
     "name": "stdout",
     "output_type": "stream",
     "text": [
      "Epoch 5/99, Train Loss: 0.5174, Train Accuracy: 0.7157\n"
     ]
    },
    {
     "name": "stderr",
     "output_type": "stream",
     "text": [
      "Val Epoch 5: 100%|██████████| 28/28 [00:04<00:00,  6.94it/s]\n"
     ]
    },
    {
     "name": "stdout",
     "output_type": "stream",
     "text": [
      "Confusion matrix for epoch 5:\n",
      "[[ 1 24]\n",
      " [ 0 86]]\n",
      "Epoch 5/99, Val F1 Score: 0.6972, Val Recall: 0.7838\n",
      "Epoch 5/99, Val Loss: 0.6426, Val Accuracy: 0.7838\n"
     ]
    },
    {
     "name": "stderr",
     "output_type": "stream",
     "text": [
      "Train Epoch 6: 100%|██████████| 250/250 [01:40<00:00,  2.48it/s]\n"
     ]
    },
    {
     "name": "stdout",
     "output_type": "stream",
     "text": [
      "Epoch 6/99, Train Loss: 0.5010, Train Accuracy: 0.7357\n"
     ]
    },
    {
     "name": "stderr",
     "output_type": "stream",
     "text": [
      "Val Epoch 6: 100%|██████████| 28/28 [00:03<00:00,  7.30it/s]\n"
     ]
    },
    {
     "name": "stdout",
     "output_type": "stream",
     "text": [
      "Confusion matrix for epoch 6:\n",
      "[[ 1 24]\n",
      " [ 0 86]]\n",
      "Epoch 6/99, Val F1 Score: 0.6972, Val Recall: 0.7838\n",
      "Epoch 6/99, Val Loss: 0.5411, Val Accuracy: 0.7838\n"
     ]
    },
    {
     "name": "stderr",
     "output_type": "stream",
     "text": [
      "Train Epoch 7: 100%|██████████| 250/250 [01:40<00:00,  2.48it/s]\n"
     ]
    },
    {
     "name": "stdout",
     "output_type": "stream",
     "text": [
      "Epoch 7/99, Train Loss: 0.4883, Train Accuracy: 0.7417\n"
     ]
    },
    {
     "name": "stderr",
     "output_type": "stream",
     "text": [
      "Val Epoch 7: 100%|██████████| 28/28 [00:03<00:00,  7.40it/s]\n"
     ]
    },
    {
     "name": "stdout",
     "output_type": "stream",
     "text": [
      "Confusion matrix for epoch 7:\n",
      "[[ 0 25]\n",
      " [ 0 86]]\n",
      "Epoch 7/99, Val F1 Score: 0.6765, Val Recall: 0.7748\n",
      "Epoch 7/99, Val Loss: 0.4974, Val Accuracy: 0.7748\n"
     ]
    },
    {
     "name": "stderr",
     "output_type": "stream",
     "text": [
      "Train Epoch 8: 100%|██████████| 250/250 [01:40<00:00,  2.49it/s]\n"
     ]
    },
    {
     "name": "stdout",
     "output_type": "stream",
     "text": [
      "Epoch 8/99, Train Loss: 0.4992, Train Accuracy: 0.7327\n"
     ]
    },
    {
     "name": "stderr",
     "output_type": "stream",
     "text": [
      "Val Epoch 8: 100%|██████████| 28/28 [00:03<00:00,  7.31it/s]\n"
     ]
    },
    {
     "name": "stdout",
     "output_type": "stream",
     "text": [
      "Confusion matrix for epoch 8:\n",
      "[[ 1 24]\n",
      " [ 1 85]]\n",
      "Epoch 8/99, Val F1 Score: 0.6921, Val Recall: 0.7748\n",
      "Epoch 8/99, Val Loss: 0.5008, Val Accuracy: 0.7748\n"
     ]
    },
    {
     "name": "stderr",
     "output_type": "stream",
     "text": [
      "Train Epoch 9: 100%|██████████| 250/250 [01:39<00:00,  2.50it/s]\n"
     ]
    },
    {
     "name": "stdout",
     "output_type": "stream",
     "text": [
      "Epoch 9/99, Train Loss: 0.4727, Train Accuracy: 0.7357\n"
     ]
    },
    {
     "name": "stderr",
     "output_type": "stream",
     "text": [
      "Val Epoch 9: 100%|██████████| 28/28 [00:03<00:00,  7.37it/s]\n"
     ]
    },
    {
     "name": "stdout",
     "output_type": "stream",
     "text": [
      "Confusion matrix for epoch 9:\n",
      "[[ 0 25]\n",
      " [ 0 86]]\n",
      "Epoch 9/99, Val F1 Score: 0.6765, Val Recall: 0.7748\n",
      "Epoch 9/99, Val Loss: 0.5046, Val Accuracy: 0.7748\n"
     ]
    },
    {
     "name": "stderr",
     "output_type": "stream",
     "text": [
      "Train Epoch 10: 100%|██████████| 250/250 [01:39<00:00,  2.50it/s]\n"
     ]
    },
    {
     "name": "stdout",
     "output_type": "stream",
     "text": [
      "Epoch 10/99, Train Loss: 0.4733, Train Accuracy: 0.7167\n"
     ]
    },
    {
     "name": "stderr",
     "output_type": "stream",
     "text": [
      "Val Epoch 10: 100%|██████████| 28/28 [00:03<00:00,  7.36it/s]\n"
     ]
    },
    {
     "name": "stdout",
     "output_type": "stream",
     "text": [
      "Confusion matrix for epoch 10:\n",
      "[[ 6 19]\n",
      " [ 8 78]]\n",
      "Epoch 10/99, Val F1 Score: 0.7298, Val Recall: 0.7568\n",
      "Epoch 10/99, Val Loss: 0.5600, Val Accuracy: 0.7568\n"
     ]
    },
    {
     "name": "stderr",
     "output_type": "stream",
     "text": [
      "Train Epoch 11: 100%|██████████| 250/250 [01:39<00:00,  2.50it/s]\n"
     ]
    },
    {
     "name": "stdout",
     "output_type": "stream",
     "text": [
      "Epoch 11/99, Train Loss: 0.4879, Train Accuracy: 0.7257\n"
     ]
    },
    {
     "name": "stderr",
     "output_type": "stream",
     "text": [
      "Val Epoch 11: 100%|██████████| 28/28 [00:03<00:00,  7.40it/s]\n"
     ]
    },
    {
     "name": "stdout",
     "output_type": "stream",
     "text": [
      "Confusion matrix for epoch 11:\n",
      "[[ 7 18]\n",
      " [ 2 84]]\n",
      "Epoch 11/99, Val F1 Score: 0.7851, Val Recall: 0.8198\n",
      "Epoch 11/99, Val Loss: 0.4463, Val Accuracy: 0.8198\n"
     ]
    },
    {
     "name": "stderr",
     "output_type": "stream",
     "text": [
      "Train Epoch 12: 100%|██████████| 250/250 [01:39<00:00,  2.50it/s]\n"
     ]
    },
    {
     "name": "stdout",
     "output_type": "stream",
     "text": [
      "Epoch 12/99, Train Loss: 0.4651, Train Accuracy: 0.7337\n"
     ]
    },
    {
     "name": "stderr",
     "output_type": "stream",
     "text": [
      "Val Epoch 12: 100%|██████████| 28/28 [00:03<00:00,  7.40it/s]\n"
     ]
    },
    {
     "name": "stdout",
     "output_type": "stream",
     "text": [
      "Confusion matrix for epoch 12:\n",
      "[[ 7 18]\n",
      " [ 1 85]]\n",
      "Epoch 12/99, Val F1 Score: 0.7924, Val Recall: 0.8288\n",
      "Epoch 12/99, Val Loss: 0.4275, Val Accuracy: 0.8288\n"
     ]
    },
    {
     "name": "stderr",
     "output_type": "stream",
     "text": [
      "Train Epoch 13: 100%|██████████| 250/250 [01:39<00:00,  2.51it/s]\n"
     ]
    },
    {
     "name": "stdout",
     "output_type": "stream",
     "text": [
      "Epoch 13/99, Train Loss: 0.4652, Train Accuracy: 0.7347\n"
     ]
    },
    {
     "name": "stderr",
     "output_type": "stream",
     "text": [
      "Val Epoch 13: 100%|██████████| 28/28 [00:03<00:00,  7.36it/s]\n"
     ]
    },
    {
     "name": "stdout",
     "output_type": "stream",
     "text": [
      "Confusion matrix for epoch 13:\n",
      "[[ 8 17]\n",
      " [ 2 84]]\n",
      "Epoch 13/99, Val F1 Score: 0.7990, Val Recall: 0.8288\n",
      "Epoch 13/99, Val Loss: 0.3912, Val Accuracy: 0.8288\n"
     ]
    },
    {
     "name": "stderr",
     "output_type": "stream",
     "text": [
      "Train Epoch 14: 100%|██████████| 250/250 [01:38<00:00,  2.53it/s]\n"
     ]
    },
    {
     "name": "stdout",
     "output_type": "stream",
     "text": [
      "Epoch 14/99, Train Loss: 0.4469, Train Accuracy: 0.7588\n"
     ]
    },
    {
     "name": "stderr",
     "output_type": "stream",
     "text": [
      "Val Epoch 14: 100%|██████████| 28/28 [00:04<00:00,  6.94it/s]\n"
     ]
    },
    {
     "name": "stdout",
     "output_type": "stream",
     "text": [
      "Confusion matrix for epoch 14:\n",
      "[[ 5 20]\n",
      " [ 0 86]]\n",
      "Epoch 14/99, Val F1 Score: 0.7691, Val Recall: 0.8198\n",
      "Epoch 14/99, Val Loss: 0.4862, Val Accuracy: 0.8198\n"
     ]
    },
    {
     "name": "stderr",
     "output_type": "stream",
     "text": [
      "Train Epoch 15: 100%|██████████| 250/250 [01:39<00:00,  2.52it/s]\n"
     ]
    },
    {
     "name": "stdout",
     "output_type": "stream",
     "text": [
      "Epoch 15/99, Train Loss: 0.4663, Train Accuracy: 0.7317\n"
     ]
    },
    {
     "name": "stderr",
     "output_type": "stream",
     "text": [
      "Val Epoch 15: 100%|██████████| 28/28 [00:03<00:00,  7.58it/s]\n"
     ]
    },
    {
     "name": "stdout",
     "output_type": "stream",
     "text": [
      "Confusion matrix for epoch 15:\n",
      "[[ 7 18]\n",
      " [ 2 84]]\n",
      "Epoch 15/99, Val F1 Score: 0.7851, Val Recall: 0.8198\n",
      "Epoch 15/99, Val Loss: 0.4406, Val Accuracy: 0.8198\n"
     ]
    },
    {
     "name": "stderr",
     "output_type": "stream",
     "text": [
      "Train Epoch 16: 100%|██████████| 250/250 [01:39<00:00,  2.52it/s]\n"
     ]
    },
    {
     "name": "stdout",
     "output_type": "stream",
     "text": [
      "Epoch 16/99, Train Loss: 0.4503, Train Accuracy: 0.7538\n"
     ]
    },
    {
     "name": "stderr",
     "output_type": "stream",
     "text": [
      "Val Epoch 16: 100%|██████████| 28/28 [00:03<00:00,  7.45it/s]\n"
     ]
    },
    {
     "name": "stdout",
     "output_type": "stream",
     "text": [
      "Confusion matrix for epoch 16:\n",
      "[[ 6 19]\n",
      " [ 3 83]]\n",
      "Epoch 16/99, Val F1 Score: 0.7636, Val Recall: 0.8018\n",
      "Epoch 16/99, Val Loss: 0.4242, Val Accuracy: 0.8018\n"
     ]
    },
    {
     "name": "stderr",
     "output_type": "stream",
     "text": [
      "Train Epoch 17: 100%|██████████| 250/250 [01:39<00:00,  2.52it/s]\n"
     ]
    },
    {
     "name": "stdout",
     "output_type": "stream",
     "text": [
      "Epoch 17/99, Train Loss: 0.4528, Train Accuracy: 0.7508\n"
     ]
    },
    {
     "name": "stderr",
     "output_type": "stream",
     "text": [
      "Val Epoch 17: 100%|██████████| 28/28 [00:03<00:00,  7.37it/s]\n"
     ]
    },
    {
     "name": "stdout",
     "output_type": "stream",
     "text": [
      "Confusion matrix for epoch 17:\n",
      "[[ 6 19]\n",
      " [ 1 85]]\n",
      "Epoch 17/99, Val F1 Score: 0.7777, Val Recall: 0.8198\n",
      "Epoch 17/99, Val Loss: 0.4312, Val Accuracy: 0.8198\n"
     ]
    },
    {
     "name": "stderr",
     "output_type": "stream",
     "text": [
      "Train Epoch 18: 100%|██████████| 250/250 [01:38<00:00,  2.53it/s]\n"
     ]
    },
    {
     "name": "stdout",
     "output_type": "stream",
     "text": [
      "Epoch 18/99, Train Loss: 0.4648, Train Accuracy: 0.7387\n"
     ]
    },
    {
     "name": "stderr",
     "output_type": "stream",
     "text": [
      "Val Epoch 18: 100%|██████████| 28/28 [00:03<00:00,  7.29it/s]\n"
     ]
    },
    {
     "name": "stdout",
     "output_type": "stream",
     "text": [
      "Confusion matrix for epoch 18:\n",
      "[[ 9 16]\n",
      " [ 4 82]]\n",
      "Epoch 18/99, Val F1 Score: 0.7972, Val Recall: 0.8198\n",
      "Epoch 18/99, Val Loss: 0.4003, Val Accuracy: 0.8198\n"
     ]
    },
    {
     "name": "stderr",
     "output_type": "stream",
     "text": [
      "Train Epoch 19: 100%|██████████| 250/250 [01:38<00:00,  2.53it/s]\n"
     ]
    },
    {
     "name": "stdout",
     "output_type": "stream",
     "text": [
      "Epoch 19/99, Train Loss: 0.4401, Train Accuracy: 0.7518\n"
     ]
    },
    {
     "name": "stderr",
     "output_type": "stream",
     "text": [
      "Val Epoch 19: 100%|██████████| 28/28 [00:03<00:00,  7.34it/s]\n"
     ]
    },
    {
     "name": "stdout",
     "output_type": "stream",
     "text": [
      "Confusion matrix for epoch 19:\n",
      "[[ 6 19]\n",
      " [ 1 85]]\n",
      "Epoch 19/99, Val F1 Score: 0.7777, Val Recall: 0.8198\n",
      "Epoch 19/99, Val Loss: 0.4478, Val Accuracy: 0.8198\n"
     ]
    },
    {
     "name": "stderr",
     "output_type": "stream",
     "text": [
      "Train Epoch 20: 100%|██████████| 250/250 [01:38<00:00,  2.54it/s]\n"
     ]
    },
    {
     "name": "stdout",
     "output_type": "stream",
     "text": [
      "Epoch 20/99, Train Loss: 0.4140, Train Accuracy: 0.7678\n"
     ]
    },
    {
     "name": "stderr",
     "output_type": "stream",
     "text": [
      "Val Epoch 20: 100%|██████████| 28/28 [00:03<00:00,  7.39it/s]\n"
     ]
    },
    {
     "name": "stdout",
     "output_type": "stream",
     "text": [
      "Confusion matrix for epoch 20:\n",
      "[[ 5 20]\n",
      " [ 1 85]]\n",
      "Epoch 20/99, Val F1 Score: 0.7622, Val Recall: 0.8108\n",
      "Epoch 20/99, Val Loss: 0.5895, Val Accuracy: 0.8108\n"
     ]
    },
    {
     "name": "stderr",
     "output_type": "stream",
     "text": [
      "Train Epoch 21: 100%|██████████| 250/250 [01:39<00:00,  2.52it/s]\n"
     ]
    },
    {
     "name": "stdout",
     "output_type": "stream",
     "text": [
      "Epoch 21/99, Train Loss: 0.4397, Train Accuracy: 0.7598\n"
     ]
    },
    {
     "name": "stderr",
     "output_type": "stream",
     "text": [
      "Val Epoch 21: 100%|██████████| 28/28 [00:03<00:00,  7.40it/s]\n"
     ]
    },
    {
     "name": "stdout",
     "output_type": "stream",
     "text": [
      "Confusion matrix for epoch 21:\n",
      "[[ 6 19]\n",
      " [ 2 84]]\n",
      "Epoch 21/99, Val F1 Score: 0.7706, Val Recall: 0.8108\n",
      "Epoch 21/99, Val Loss: 0.4097, Val Accuracy: 0.8108\n"
     ]
    },
    {
     "name": "stderr",
     "output_type": "stream",
     "text": [
      "Train Epoch 22: 100%|██████████| 250/250 [01:38<00:00,  2.54it/s]\n"
     ]
    },
    {
     "name": "stdout",
     "output_type": "stream",
     "text": [
      "Epoch 22/99, Train Loss: 0.4131, Train Accuracy: 0.7618\n"
     ]
    },
    {
     "name": "stderr",
     "output_type": "stream",
     "text": [
      "Val Epoch 22: 100%|██████████| 28/28 [00:03<00:00,  7.32it/s]\n"
     ]
    },
    {
     "name": "stdout",
     "output_type": "stream",
     "text": [
      "Confusion matrix for epoch 22:\n",
      "[[ 8 17]\n",
      " [ 1 85]]\n",
      "Epoch 22/99, Val F1 Score: 0.8066, Val Recall: 0.8378\n",
      "Epoch 22/99, Val Loss: 0.4002, Val Accuracy: 0.8378\n"
     ]
    },
    {
     "name": "stderr",
     "output_type": "stream",
     "text": [
      "Train Epoch 23: 100%|██████████| 250/250 [01:38<00:00,  2.54it/s]\n"
     ]
    },
    {
     "name": "stdout",
     "output_type": "stream",
     "text": [
      "Epoch 23/99, Train Loss: 0.4332, Train Accuracy: 0.7718\n"
     ]
    },
    {
     "name": "stderr",
     "output_type": "stream",
     "text": [
      "Val Epoch 23: 100%|██████████| 28/28 [00:03<00:00,  7.23it/s]\n"
     ]
    },
    {
     "name": "stdout",
     "output_type": "stream",
     "text": [
      "Confusion matrix for epoch 23:\n",
      "[[ 7 18]\n",
      " [ 1 85]]\n",
      "Epoch 23/99, Val F1 Score: 0.7924, Val Recall: 0.8288\n",
      "Epoch 23/99, Val Loss: 0.4114, Val Accuracy: 0.8288\n"
     ]
    },
    {
     "name": "stderr",
     "output_type": "stream",
     "text": [
      "Train Epoch 24: 100%|██████████| 250/250 [01:38<00:00,  2.53it/s]\n"
     ]
    },
    {
     "name": "stdout",
     "output_type": "stream",
     "text": [
      "Epoch 24/99, Train Loss: 0.4334, Train Accuracy: 0.7518\n"
     ]
    },
    {
     "name": "stderr",
     "output_type": "stream",
     "text": [
      "Val Epoch 24: 100%|██████████| 28/28 [00:03<00:00,  7.42it/s]\n"
     ]
    },
    {
     "name": "stdout",
     "output_type": "stream",
     "text": [
      "Confusion matrix for epoch 24:\n",
      "[[ 5 20]\n",
      " [ 0 86]]\n",
      "Epoch 24/99, Val F1 Score: 0.7691, Val Recall: 0.8198\n",
      "Epoch 24/99, Val Loss: 0.4884, Val Accuracy: 0.8198\n"
     ]
    },
    {
     "name": "stderr",
     "output_type": "stream",
     "text": [
      "Train Epoch 25: 100%|██████████| 250/250 [01:37<00:00,  2.56it/s]\n"
     ]
    },
    {
     "name": "stdout",
     "output_type": "stream",
     "text": [
      "Epoch 25/99, Train Loss: 0.4103, Train Accuracy: 0.7678\n"
     ]
    },
    {
     "name": "stderr",
     "output_type": "stream",
     "text": [
      "Val Epoch 25: 100%|██████████| 28/28 [00:03<00:00,  7.47it/s]\n"
     ]
    },
    {
     "name": "stdout",
     "output_type": "stream",
     "text": [
      "Confusion matrix for epoch 25:\n",
      "[[ 6 19]\n",
      " [ 1 85]]\n",
      "Epoch 25/99, Val F1 Score: 0.7777, Val Recall: 0.8198\n",
      "Epoch 25/99, Val Loss: 0.4336, Val Accuracy: 0.8198\n"
     ]
    },
    {
     "name": "stderr",
     "output_type": "stream",
     "text": [
      "Train Epoch 26: 100%|██████████| 250/250 [01:38<00:00,  2.53it/s]\n"
     ]
    },
    {
     "name": "stdout",
     "output_type": "stream",
     "text": [
      "Epoch 26/99, Train Loss: 0.4189, Train Accuracy: 0.7628\n"
     ]
    },
    {
     "name": "stderr",
     "output_type": "stream",
     "text": [
      "Val Epoch 26: 100%|██████████| 28/28 [00:03<00:00,  7.44it/s]\n"
     ]
    },
    {
     "name": "stdout",
     "output_type": "stream",
     "text": [
      "Confusion matrix for epoch 26:\n",
      "[[ 7 18]\n",
      " [ 2 84]]\n",
      "Epoch 26/99, Val F1 Score: 0.7851, Val Recall: 0.8198\n",
      "Epoch 26/99, Val Loss: 0.4328, Val Accuracy: 0.8198\n"
     ]
    },
    {
     "name": "stderr",
     "output_type": "stream",
     "text": [
      "Train Epoch 27: 100%|██████████| 250/250 [01:38<00:00,  2.55it/s]\n"
     ]
    },
    {
     "name": "stdout",
     "output_type": "stream",
     "text": [
      "Epoch 27/99, Train Loss: 0.3959, Train Accuracy: 0.7788\n"
     ]
    },
    {
     "name": "stderr",
     "output_type": "stream",
     "text": [
      "Val Epoch 27: 100%|██████████| 28/28 [00:03<00:00,  7.47it/s]\n"
     ]
    },
    {
     "name": "stdout",
     "output_type": "stream",
     "text": [
      "Confusion matrix for epoch 27:\n",
      "[[ 6 19]\n",
      " [ 2 84]]\n",
      "Epoch 27/99, Val F1 Score: 0.7706, Val Recall: 0.8108\n",
      "Epoch 27/99, Val Loss: 0.4420, Val Accuracy: 0.8108\n"
     ]
    },
    {
     "name": "stderr",
     "output_type": "stream",
     "text": [
      "Train Epoch 28: 100%|██████████| 250/250 [01:37<00:00,  2.55it/s]\n"
     ]
    },
    {
     "name": "stdout",
     "output_type": "stream",
     "text": [
      "Epoch 28/99, Train Loss: 0.3993, Train Accuracy: 0.7628\n"
     ]
    },
    {
     "name": "stderr",
     "output_type": "stream",
     "text": [
      "Val Epoch 28: 100%|██████████| 28/28 [00:03<00:00,  7.48it/s]\n"
     ]
    },
    {
     "name": "stdout",
     "output_type": "stream",
     "text": [
      "Confusion matrix for epoch 28:\n",
      "[[ 7 18]\n",
      " [ 4 82]]\n",
      "Epoch 28/99, Val F1 Score: 0.7707, Val Recall: 0.8018\n",
      "Epoch 28/99, Val Loss: 0.4225, Val Accuracy: 0.8018\n"
     ]
    },
    {
     "name": "stderr",
     "output_type": "stream",
     "text": [
      "Train Epoch 29: 100%|██████████| 250/250 [01:38<00:00,  2.53it/s]\n"
     ]
    },
    {
     "name": "stdout",
     "output_type": "stream",
     "text": [
      "Epoch 29/99, Train Loss: 0.4194, Train Accuracy: 0.7708\n"
     ]
    },
    {
     "name": "stderr",
     "output_type": "stream",
     "text": [
      "Val Epoch 29: 100%|██████████| 28/28 [00:03<00:00,  7.31it/s]\n"
     ]
    },
    {
     "name": "stdout",
     "output_type": "stream",
     "text": [
      "Confusion matrix for epoch 29:\n",
      "[[ 8 17]\n",
      " [ 1 85]]\n",
      "Epoch 29/99, Val F1 Score: 0.8066, Val Recall: 0.8378\n",
      "Epoch 29/99, Val Loss: 0.3784, Val Accuracy: 0.8378\n"
     ]
    },
    {
     "name": "stderr",
     "output_type": "stream",
     "text": [
      "Train Epoch 30: 100%|██████████| 250/250 [01:38<00:00,  2.54it/s]\n"
     ]
    },
    {
     "name": "stdout",
     "output_type": "stream",
     "text": [
      "Epoch 30/99, Train Loss: 0.4095, Train Accuracy: 0.7638\n"
     ]
    },
    {
     "name": "stderr",
     "output_type": "stream",
     "text": [
      "Val Epoch 30: 100%|██████████| 28/28 [00:03<00:00,  7.57it/s]\n"
     ]
    },
    {
     "name": "stdout",
     "output_type": "stream",
     "text": [
      "Confusion matrix for epoch 30:\n",
      "[[ 7 18]\n",
      " [ 2 84]]\n",
      "Epoch 30/99, Val F1 Score: 0.7851, Val Recall: 0.8198\n",
      "Epoch 30/99, Val Loss: 0.4292, Val Accuracy: 0.8198\n"
     ]
    },
    {
     "name": "stderr",
     "output_type": "stream",
     "text": [
      "Train Epoch 31: 100%|██████████| 250/250 [01:37<00:00,  2.56it/s]\n"
     ]
    },
    {
     "name": "stdout",
     "output_type": "stream",
     "text": [
      "Epoch 31/99, Train Loss: 0.3740, Train Accuracy: 0.7858\n"
     ]
    },
    {
     "name": "stderr",
     "output_type": "stream",
     "text": [
      "Val Epoch 31: 100%|██████████| 28/28 [00:03<00:00,  7.52it/s]\n"
     ]
    },
    {
     "name": "stdout",
     "output_type": "stream",
     "text": [
      "Confusion matrix for epoch 31:\n",
      "[[ 6 19]\n",
      " [ 2 84]]\n",
      "Epoch 31/99, Val F1 Score: 0.7706, Val Recall: 0.8108\n",
      "Epoch 31/99, Val Loss: 0.4743, Val Accuracy: 0.8108\n"
     ]
    },
    {
     "name": "stderr",
     "output_type": "stream",
     "text": [
      "Train Epoch 32: 100%|██████████| 250/250 [01:38<00:00,  2.54it/s]\n"
     ]
    },
    {
     "name": "stdout",
     "output_type": "stream",
     "text": [
      "Epoch 32/99, Train Loss: 0.3880, Train Accuracy: 0.7708\n"
     ]
    },
    {
     "name": "stderr",
     "output_type": "stream",
     "text": [
      "Val Epoch 32: 100%|██████████| 28/28 [00:03<00:00,  7.35it/s]\n"
     ]
    },
    {
     "name": "stdout",
     "output_type": "stream",
     "text": [
      "Confusion matrix for epoch 32:\n",
      "[[ 6 19]\n",
      " [ 1 85]]\n",
      "Epoch 32/99, Val F1 Score: 0.7777, Val Recall: 0.8198\n",
      "Epoch 32/99, Val Loss: 0.5158, Val Accuracy: 0.8198\n"
     ]
    },
    {
     "name": "stderr",
     "output_type": "stream",
     "text": [
      "Train Epoch 33: 100%|██████████| 250/250 [01:38<00:00,  2.54it/s]\n"
     ]
    },
    {
     "name": "stdout",
     "output_type": "stream",
     "text": [
      "Epoch 33/99, Train Loss: 0.3576, Train Accuracy: 0.8058\n"
     ]
    },
    {
     "name": "stderr",
     "output_type": "stream",
     "text": [
      "Val Epoch 33: 100%|██████████| 28/28 [00:03<00:00,  7.43it/s]\n"
     ]
    },
    {
     "name": "stdout",
     "output_type": "stream",
     "text": [
      "Confusion matrix for epoch 33:\n",
      "[[ 7 18]\n",
      " [ 2 84]]\n",
      "Epoch 33/99, Val F1 Score: 0.7851, Val Recall: 0.8198\n",
      "Epoch 33/99, Val Loss: 0.3931, Val Accuracy: 0.8198\n"
     ]
    },
    {
     "name": "stderr",
     "output_type": "stream",
     "text": [
      "Train Epoch 34: 100%|██████████| 250/250 [01:38<00:00,  2.55it/s]\n"
     ]
    },
    {
     "name": "stdout",
     "output_type": "stream",
     "text": [
      "Epoch 34/99, Train Loss: 0.3722, Train Accuracy: 0.7848\n"
     ]
    },
    {
     "name": "stderr",
     "output_type": "stream",
     "text": [
      "Val Epoch 34: 100%|██████████| 28/28 [00:03<00:00,  7.49it/s]\n"
     ]
    },
    {
     "name": "stdout",
     "output_type": "stream",
     "text": [
      "Confusion matrix for epoch 34:\n",
      "[[ 7 18]\n",
      " [ 2 84]]\n",
      "Epoch 34/99, Val F1 Score: 0.7851, Val Recall: 0.8198\n",
      "Epoch 34/99, Val Loss: 0.4573, Val Accuracy: 0.8198\n"
     ]
    },
    {
     "name": "stderr",
     "output_type": "stream",
     "text": [
      "Train Epoch 35: 100%|██████████| 250/250 [01:38<00:00,  2.54it/s]\n"
     ]
    },
    {
     "name": "stdout",
     "output_type": "stream",
     "text": [
      "Epoch 35/99, Train Loss: 0.3655, Train Accuracy: 0.7948\n"
     ]
    },
    {
     "name": "stderr",
     "output_type": "stream",
     "text": [
      "Val Epoch 35: 100%|██████████| 28/28 [00:03<00:00,  7.48it/s]\n"
     ]
    },
    {
     "name": "stdout",
     "output_type": "stream",
     "text": [
      "Confusion matrix for epoch 35:\n",
      "[[11 14]\n",
      " [ 5 81]]\n",
      "Epoch 35/99, Val F1 Score: 0.8143, Val Recall: 0.8288\n",
      "Epoch 35/99, Val Loss: 0.3714, Val Accuracy: 0.8288\n"
     ]
    },
    {
     "name": "stderr",
     "output_type": "stream",
     "text": [
      "Train Epoch 36: 100%|██████████| 250/250 [01:38<00:00,  2.54it/s]\n"
     ]
    },
    {
     "name": "stdout",
     "output_type": "stream",
     "text": [
      "Epoch 36/99, Train Loss: 0.3596, Train Accuracy: 0.7868\n"
     ]
    },
    {
     "name": "stderr",
     "output_type": "stream",
     "text": [
      "Val Epoch 36: 100%|██████████| 28/28 [00:03<00:00,  7.48it/s]\n"
     ]
    },
    {
     "name": "stdout",
     "output_type": "stream",
     "text": [
      "Confusion matrix for epoch 36:\n",
      "[[ 8 17]\n",
      " [ 5 81]]\n",
      "Epoch 36/99, Val F1 Score: 0.7770, Val Recall: 0.8018\n",
      "Epoch 36/99, Val Loss: 0.4491, Val Accuracy: 0.8018\n"
     ]
    },
    {
     "name": "stderr",
     "output_type": "stream",
     "text": [
      "Train Epoch 37: 100%|██████████| 250/250 [01:38<00:00,  2.54it/s]\n"
     ]
    },
    {
     "name": "stdout",
     "output_type": "stream",
     "text": [
      "Epoch 37/99, Train Loss: 0.3492, Train Accuracy: 0.7818\n"
     ]
    },
    {
     "name": "stderr",
     "output_type": "stream",
     "text": [
      "Val Epoch 37: 100%|██████████| 28/28 [00:03<00:00,  7.73it/s]\n"
     ]
    },
    {
     "name": "stdout",
     "output_type": "stream",
     "text": [
      "Confusion matrix for epoch 37:\n",
      "[[12 13]\n",
      " [ 5 81]]\n",
      "Epoch 37/99, Val F1 Score: 0.8260, Val Recall: 0.8378\n",
      "Epoch 37/99, Val Loss: 0.3765, Val Accuracy: 0.8378\n"
     ]
    },
    {
     "name": "stderr",
     "output_type": "stream",
     "text": [
      "Train Epoch 38: 100%|██████████| 250/250 [01:37<00:00,  2.56it/s]\n"
     ]
    },
    {
     "name": "stdout",
     "output_type": "stream",
     "text": [
      "Epoch 38/99, Train Loss: 0.3321, Train Accuracy: 0.8058\n"
     ]
    },
    {
     "name": "stderr",
     "output_type": "stream",
     "text": [
      "Val Epoch 38: 100%|██████████| 28/28 [00:03<00:00,  7.53it/s]\n"
     ]
    },
    {
     "name": "stdout",
     "output_type": "stream",
     "text": [
      "Confusion matrix for epoch 38:\n",
      "[[ 9 16]\n",
      " [ 2 84]]\n",
      "Epoch 38/99, Val F1 Score: 0.8124, Val Recall: 0.8378\n",
      "Epoch 38/99, Val Loss: 0.4299, Val Accuracy: 0.8378\n"
     ]
    },
    {
     "name": "stderr",
     "output_type": "stream",
     "text": [
      "Train Epoch 39: 100%|██████████| 250/250 [01:38<00:00,  2.54it/s]\n"
     ]
    },
    {
     "name": "stdout",
     "output_type": "stream",
     "text": [
      "Epoch 39/99, Train Loss: 0.3466, Train Accuracy: 0.7938\n"
     ]
    },
    {
     "name": "stderr",
     "output_type": "stream",
     "text": [
      "Val Epoch 39: 100%|██████████| 28/28 [00:03<00:00,  7.48it/s]\n"
     ]
    },
    {
     "name": "stdout",
     "output_type": "stream",
     "text": [
      "Confusion matrix for epoch 39:\n",
      "[[13 12]\n",
      " [ 8 78]]\n",
      "Epoch 39/99, Val F1 Score: 0.8140, Val Recall: 0.8198\n",
      "Epoch 39/99, Val Loss: 0.3817, Val Accuracy: 0.8198\n"
     ]
    },
    {
     "name": "stderr",
     "output_type": "stream",
     "text": [
      "Train Epoch 40: 100%|██████████| 250/250 [01:37<00:00,  2.56it/s]\n"
     ]
    },
    {
     "name": "stdout",
     "output_type": "stream",
     "text": [
      "Epoch 40/99, Train Loss: 0.3212, Train Accuracy: 0.8118\n"
     ]
    },
    {
     "name": "stderr",
     "output_type": "stream",
     "text": [
      "Val Epoch 40: 100%|██████████| 28/28 [00:03<00:00,  7.54it/s]\n"
     ]
    },
    {
     "name": "stdout",
     "output_type": "stream",
     "text": [
      "Confusion matrix for epoch 40:\n",
      "[[ 7 18]\n",
      " [ 2 84]]\n",
      "Epoch 40/99, Val F1 Score: 0.7851, Val Recall: 0.8198\n",
      "Epoch 40/99, Val Loss: 0.5609, Val Accuracy: 0.8198\n"
     ]
    },
    {
     "name": "stderr",
     "output_type": "stream",
     "text": [
      "Train Epoch 41: 100%|██████████| 250/250 [01:38<00:00,  2.55it/s]\n"
     ]
    },
    {
     "name": "stdout",
     "output_type": "stream",
     "text": [
      "Epoch 41/99, Train Loss: 0.3322, Train Accuracy: 0.8138\n"
     ]
    },
    {
     "name": "stderr",
     "output_type": "stream",
     "text": [
      "Val Epoch 41: 100%|██████████| 28/28 [00:03<00:00,  7.56it/s]\n"
     ]
    },
    {
     "name": "stdout",
     "output_type": "stream",
     "text": [
      "Confusion matrix for epoch 41:\n",
      "[[ 9 16]\n",
      " [ 5 81]]\n",
      "Epoch 41/99, Val F1 Score: 0.7898, Val Recall: 0.8108\n",
      "Epoch 41/99, Val Loss: 0.4085, Val Accuracy: 0.8108\n"
     ]
    },
    {
     "name": "stderr",
     "output_type": "stream",
     "text": [
      "Train Epoch 42: 100%|██████████| 250/250 [01:37<00:00,  2.56it/s]\n"
     ]
    },
    {
     "name": "stdout",
     "output_type": "stream",
     "text": [
      "Epoch 42/99, Train Loss: 0.3069, Train Accuracy: 0.8308\n"
     ]
    },
    {
     "name": "stderr",
     "output_type": "stream",
     "text": [
      "Val Epoch 42: 100%|██████████| 28/28 [00:03<00:00,  7.50it/s]\n"
     ]
    },
    {
     "name": "stdout",
     "output_type": "stream",
     "text": [
      "Confusion matrix for epoch 42:\n",
      "[[ 5 20]\n",
      " [ 1 85]]\n",
      "Epoch 42/99, Val F1 Score: 0.7622, Val Recall: 0.8108\n",
      "Epoch 42/99, Val Loss: 0.5560, Val Accuracy: 0.8108\n"
     ]
    },
    {
     "name": "stderr",
     "output_type": "stream",
     "text": [
      "Train Epoch 43: 100%|██████████| 250/250 [01:38<00:00,  2.55it/s]\n"
     ]
    },
    {
     "name": "stdout",
     "output_type": "stream",
     "text": [
      "Epoch 43/99, Train Loss: 0.3089, Train Accuracy: 0.8248\n"
     ]
    },
    {
     "name": "stderr",
     "output_type": "stream",
     "text": [
      "Val Epoch 43: 100%|██████████| 28/28 [00:03<00:00,  7.45it/s]\n"
     ]
    },
    {
     "name": "stdout",
     "output_type": "stream",
     "text": [
      "Confusion matrix for epoch 43:\n",
      "[[12 13]\n",
      " [ 6 80]]\n",
      "Epoch 43/99, Val F1 Score: 0.8182, Val Recall: 0.8288\n",
      "Epoch 43/99, Val Loss: 0.4282, Val Accuracy: 0.8288\n"
     ]
    },
    {
     "name": "stderr",
     "output_type": "stream",
     "text": [
      "Train Epoch 44: 100%|██████████| 250/250 [01:38<00:00,  2.55it/s]\n"
     ]
    },
    {
     "name": "stdout",
     "output_type": "stream",
     "text": [
      "Epoch 44/99, Train Loss: 0.3074, Train Accuracy: 0.8308\n"
     ]
    },
    {
     "name": "stderr",
     "output_type": "stream",
     "text": [
      "Val Epoch 44: 100%|██████████| 28/28 [00:03<00:00,  7.54it/s]\n"
     ]
    },
    {
     "name": "stdout",
     "output_type": "stream",
     "text": [
      "Confusion matrix for epoch 44:\n",
      "[[ 9 16]\n",
      " [ 3 83]]\n",
      "Epoch 44/99, Val F1 Score: 0.8048, Val Recall: 0.8288\n",
      "Epoch 44/99, Val Loss: 0.4675, Val Accuracy: 0.8288\n"
     ]
    },
    {
     "name": "stderr",
     "output_type": "stream",
     "text": [
      "Train Epoch 45: 100%|██████████| 250/250 [01:37<00:00,  2.56it/s]\n"
     ]
    },
    {
     "name": "stdout",
     "output_type": "stream",
     "text": [
      "Epoch 45/99, Train Loss: 0.2878, Train Accuracy: 0.8408\n"
     ]
    },
    {
     "name": "stderr",
     "output_type": "stream",
     "text": [
      "Val Epoch 45: 100%|██████████| 28/28 [00:03<00:00,  7.58it/s]\n"
     ]
    },
    {
     "name": "stdout",
     "output_type": "stream",
     "text": [
      "Confusion matrix for epoch 45:\n",
      "[[ 8 17]\n",
      " [ 3 83]]\n",
      "Epoch 45/99, Val F1 Score: 0.7916, Val Recall: 0.8198\n",
      "Epoch 45/99, Val Loss: 0.4980, Val Accuracy: 0.8198\n"
     ]
    },
    {
     "name": "stderr",
     "output_type": "stream",
     "text": [
      "Train Epoch 46: 100%|██████████| 250/250 [01:38<00:00,  2.55it/s]\n"
     ]
    },
    {
     "name": "stdout",
     "output_type": "stream",
     "text": [
      "Epoch 46/99, Train Loss: 0.2880, Train Accuracy: 0.8318\n"
     ]
    },
    {
     "name": "stderr",
     "output_type": "stream",
     "text": [
      "Val Epoch 46: 100%|██████████| 28/28 [00:03<00:00,  7.51it/s]\n"
     ]
    },
    {
     "name": "stdout",
     "output_type": "stream",
     "text": [
      "Confusion matrix for epoch 46:\n",
      "[[ 8 17]\n",
      " [ 3 83]]\n",
      "Epoch 46/99, Val F1 Score: 0.7916, Val Recall: 0.8198\n",
      "Epoch 46/99, Val Loss: 0.5443, Val Accuracy: 0.8198\n"
     ]
    },
    {
     "name": "stderr",
     "output_type": "stream",
     "text": [
      "Train Epoch 47: 100%|██████████| 250/250 [01:38<00:00,  2.54it/s]\n"
     ]
    },
    {
     "name": "stdout",
     "output_type": "stream",
     "text": [
      "Epoch 47/99, Train Loss: 0.2827, Train Accuracy: 0.8358\n"
     ]
    },
    {
     "name": "stderr",
     "output_type": "stream",
     "text": [
      "Val Epoch 47: 100%|██████████| 28/28 [00:03<00:00,  7.61it/s]\n"
     ]
    },
    {
     "name": "stdout",
     "output_type": "stream",
     "text": [
      "Confusion matrix for epoch 47:\n",
      "[[ 6 19]\n",
      " [ 2 84]]\n",
      "Epoch 47/99, Val F1 Score: 0.7706, Val Recall: 0.8108\n",
      "Epoch 47/99, Val Loss: 0.5321, Val Accuracy: 0.8108\n"
     ]
    },
    {
     "name": "stderr",
     "output_type": "stream",
     "text": [
      "Train Epoch 48: 100%|██████████| 250/250 [01:38<00:00,  2.54it/s]\n"
     ]
    },
    {
     "name": "stdout",
     "output_type": "stream",
     "text": [
      "Epoch 48/99, Train Loss: 0.2759, Train Accuracy: 0.8458\n"
     ]
    },
    {
     "name": "stderr",
     "output_type": "stream",
     "text": [
      "Val Epoch 48: 100%|██████████| 28/28 [00:03<00:00,  7.51it/s]\n"
     ]
    },
    {
     "name": "stdout",
     "output_type": "stream",
     "text": [
      "Confusion matrix for epoch 48:\n",
      "[[ 5 20]\n",
      " [ 5 81]]\n",
      "Epoch 48/99, Val F1 Score: 0.7355, Val Recall: 0.7748\n",
      "Epoch 48/99, Val Loss: 0.5589, Val Accuracy: 0.7748\n"
     ]
    },
    {
     "name": "stderr",
     "output_type": "stream",
     "text": [
      "Train Epoch 49: 100%|██████████| 250/250 [01:37<00:00,  2.56it/s]\n"
     ]
    },
    {
     "name": "stdout",
     "output_type": "stream",
     "text": [
      "Epoch 49/99, Train Loss: 0.2518, Train Accuracy: 0.8509\n"
     ]
    },
    {
     "name": "stderr",
     "output_type": "stream",
     "text": [
      "Val Epoch 49: 100%|██████████| 28/28 [00:03<00:00,  7.46it/s]\n"
     ]
    },
    {
     "name": "stdout",
     "output_type": "stream",
     "text": [
      "Confusion matrix for epoch 49:\n",
      "[[ 8 17]\n",
      " [ 3 83]]\n",
      "Epoch 49/99, Val F1 Score: 0.7916, Val Recall: 0.8198\n",
      "Epoch 49/99, Val Loss: 0.6326, Val Accuracy: 0.8198\n"
     ]
    },
    {
     "name": "stderr",
     "output_type": "stream",
     "text": [
      "Train Epoch 50: 100%|██████████| 250/250 [01:38<00:00,  2.55it/s]\n"
     ]
    },
    {
     "name": "stdout",
     "output_type": "stream",
     "text": [
      "Epoch 50/99, Train Loss: 0.2456, Train Accuracy: 0.8438\n"
     ]
    },
    {
     "name": "stderr",
     "output_type": "stream",
     "text": [
      "Val Epoch 50: 100%|██████████| 28/28 [00:03<00:00,  7.50it/s]\n"
     ]
    },
    {
     "name": "stdout",
     "output_type": "stream",
     "text": [
      "Confusion matrix for epoch 50:\n",
      "[[ 6 19]\n",
      " [ 4 82]]\n",
      "Epoch 50/99, Val F1 Score: 0.7567, Val Recall: 0.7928\n",
      "Epoch 50/99, Val Loss: 0.6738, Val Accuracy: 0.7928\n"
     ]
    },
    {
     "name": "stderr",
     "output_type": "stream",
     "text": [
      "Train Epoch 51: 100%|██████████| 250/250 [01:38<00:00,  2.54it/s]\n"
     ]
    },
    {
     "name": "stdout",
     "output_type": "stream",
     "text": [
      "Epoch 51/99, Train Loss: 0.2311, Train Accuracy: 0.8759\n"
     ]
    },
    {
     "name": "stderr",
     "output_type": "stream",
     "text": [
      "Val Epoch 51: 100%|██████████| 28/28 [00:03<00:00,  7.54it/s]\n"
     ]
    },
    {
     "name": "stdout",
     "output_type": "stream",
     "text": [
      "Confusion matrix for epoch 51:\n",
      "[[ 6 19]\n",
      " [ 3 83]]\n",
      "Epoch 51/99, Val F1 Score: 0.7636, Val Recall: 0.8018\n",
      "Epoch 51/99, Val Loss: 0.5878, Val Accuracy: 0.8018\n"
     ]
    },
    {
     "name": "stderr",
     "output_type": "stream",
     "text": [
      "Train Epoch 52: 100%|██████████| 250/250 [01:38<00:00,  2.54it/s]\n"
     ]
    },
    {
     "name": "stdout",
     "output_type": "stream",
     "text": [
      "Epoch 52/99, Train Loss: 0.2357, Train Accuracy: 0.8619\n"
     ]
    },
    {
     "name": "stderr",
     "output_type": "stream",
     "text": [
      "Val Epoch 52: 100%|██████████| 28/28 [00:03<00:00,  7.57it/s]\n"
     ]
    },
    {
     "name": "stdout",
     "output_type": "stream",
     "text": [
      "Confusion matrix for epoch 52:\n",
      "[[ 6 19]\n",
      " [ 3 83]]\n",
      "Epoch 52/99, Val F1 Score: 0.7636, Val Recall: 0.8018\n",
      "Epoch 52/99, Val Loss: 0.5875, Val Accuracy: 0.8018\n"
     ]
    },
    {
     "name": "stderr",
     "output_type": "stream",
     "text": [
      "Train Epoch 53: 100%|██████████| 250/250 [01:38<00:00,  2.53it/s]\n"
     ]
    },
    {
     "name": "stdout",
     "output_type": "stream",
     "text": [
      "Epoch 53/99, Train Loss: 0.2646, Train Accuracy: 0.8318\n"
     ]
    },
    {
     "name": "stderr",
     "output_type": "stream",
     "text": [
      "Val Epoch 53: 100%|██████████| 28/28 [00:03<00:00,  7.48it/s]\n"
     ]
    },
    {
     "name": "stdout",
     "output_type": "stream",
     "text": [
      "Confusion matrix for epoch 53:\n",
      "[[ 7 18]\n",
      " [ 3 83]]\n",
      "Epoch 53/99, Val F1 Score: 0.7779, Val Recall: 0.8108\n",
      "Epoch 53/99, Val Loss: 0.5497, Val Accuracy: 0.8108\n"
     ]
    },
    {
     "name": "stderr",
     "output_type": "stream",
     "text": [
      "Train Epoch 54: 100%|██████████| 250/250 [01:38<00:00,  2.55it/s]\n"
     ]
    },
    {
     "name": "stdout",
     "output_type": "stream",
     "text": [
      "Epoch 54/99, Train Loss: 0.2482, Train Accuracy: 0.8589\n"
     ]
    },
    {
     "name": "stderr",
     "output_type": "stream",
     "text": [
      "Val Epoch 54: 100%|██████████| 28/28 [00:03<00:00,  7.47it/s]\n"
     ]
    },
    {
     "name": "stdout",
     "output_type": "stream",
     "text": [
      "Confusion matrix for epoch 54:\n",
      "[[ 7 18]\n",
      " [ 3 83]]\n",
      "Epoch 54/99, Val F1 Score: 0.7779, Val Recall: 0.8108\n",
      "Epoch 54/99, Val Loss: 0.5835, Val Accuracy: 0.8108\n"
     ]
    },
    {
     "name": "stderr",
     "output_type": "stream",
     "text": [
      "Train Epoch 55: 100%|██████████| 250/250 [01:37<00:00,  2.56it/s]\n"
     ]
    },
    {
     "name": "stdout",
     "output_type": "stream",
     "text": [
      "Epoch 55/99, Train Loss: 0.2177, Train Accuracy: 0.8749\n"
     ]
    },
    {
     "name": "stderr",
     "output_type": "stream",
     "text": [
      "Val Epoch 55: 100%|██████████| 28/28 [00:03<00:00,  7.46it/s]\n"
     ]
    },
    {
     "name": "stdout",
     "output_type": "stream",
     "text": [
      "Confusion matrix for epoch 55:\n",
      "[[ 7 18]\n",
      " [ 3 83]]\n",
      "Epoch 55/99, Val F1 Score: 0.7779, Val Recall: 0.8108\n",
      "Epoch 55/99, Val Loss: 0.5882, Val Accuracy: 0.8108\n"
     ]
    },
    {
     "name": "stderr",
     "output_type": "stream",
     "text": [
      "Train Epoch 56: 100%|██████████| 250/250 [01:38<00:00,  2.54it/s]\n"
     ]
    },
    {
     "name": "stdout",
     "output_type": "stream",
     "text": [
      "Epoch 56/99, Train Loss: 0.2146, Train Accuracy: 0.8569\n"
     ]
    },
    {
     "name": "stderr",
     "output_type": "stream",
     "text": [
      "Val Epoch 56: 100%|██████████| 28/28 [00:03<00:00,  7.47it/s]\n"
     ]
    },
    {
     "name": "stdout",
     "output_type": "stream",
     "text": [
      "Confusion matrix for epoch 56:\n",
      "[[ 3 22]\n",
      " [ 2 84]]\n",
      "Epoch 56/99, Val F1 Score: 0.7230, Val Recall: 0.7838\n",
      "Epoch 56/99, Val Loss: 0.6233, Val Accuracy: 0.7838\n"
     ]
    },
    {
     "name": "stderr",
     "output_type": "stream",
     "text": [
      "Train Epoch 57: 100%|██████████| 250/250 [01:38<00:00,  2.53it/s]\n"
     ]
    },
    {
     "name": "stdout",
     "output_type": "stream",
     "text": [
      "Epoch 57/99, Train Loss: 0.2102, Train Accuracy: 0.8689\n"
     ]
    },
    {
     "name": "stderr",
     "output_type": "stream",
     "text": [
      "Val Epoch 57: 100%|██████████| 28/28 [00:03<00:00,  7.68it/s]\n"
     ]
    },
    {
     "name": "stdout",
     "output_type": "stream",
     "text": [
      "Confusion matrix for epoch 57:\n",
      "[[ 8 17]\n",
      " [ 5 81]]\n",
      "Epoch 57/99, Val F1 Score: 0.7770, Val Recall: 0.8018\n",
      "Epoch 57/99, Val Loss: 0.5568, Val Accuracy: 0.8018\n"
     ]
    },
    {
     "name": "stderr",
     "output_type": "stream",
     "text": [
      "Train Epoch 58: 100%|██████████| 250/250 [01:37<00:00,  2.55it/s]\n"
     ]
    },
    {
     "name": "stdout",
     "output_type": "stream",
     "text": [
      "Epoch 58/99, Train Loss: 0.2225, Train Accuracy: 0.8619\n"
     ]
    },
    {
     "name": "stderr",
     "output_type": "stream",
     "text": [
      "Val Epoch 58: 100%|██████████| 28/28 [00:03<00:00,  7.51it/s]\n"
     ]
    },
    {
     "name": "stdout",
     "output_type": "stream",
     "text": [
      "Confusion matrix for epoch 58:\n",
      "[[ 8 17]\n",
      " [ 6 80]]\n",
      "Epoch 58/99, Val F1 Score: 0.7698, Val Recall: 0.7928\n",
      "Epoch 58/99, Val Loss: 0.5040, Val Accuracy: 0.7928\n"
     ]
    },
    {
     "name": "stderr",
     "output_type": "stream",
     "text": [
      "Train Epoch 59: 100%|██████████| 250/250 [01:38<00:00,  2.53it/s]\n"
     ]
    },
    {
     "name": "stdout",
     "output_type": "stream",
     "text": [
      "Epoch 59/99, Train Loss: 0.2009, Train Accuracy: 0.8719\n"
     ]
    },
    {
     "name": "stderr",
     "output_type": "stream",
     "text": [
      "Val Epoch 59: 100%|██████████| 28/28 [00:03<00:00,  7.45it/s]\n"
     ]
    },
    {
     "name": "stdout",
     "output_type": "stream",
     "text": [
      "Confusion matrix for epoch 59:\n",
      "[[ 7 18]\n",
      " [ 5 81]]\n",
      "Epoch 59/99, Val F1 Score: 0.7637, Val Recall: 0.7928\n",
      "Epoch 59/99, Val Loss: 0.7200, Val Accuracy: 0.7928\n"
     ]
    },
    {
     "name": "stderr",
     "output_type": "stream",
     "text": [
      "Train Epoch 60: 100%|██████████| 250/250 [01:37<00:00,  2.55it/s]\n"
     ]
    },
    {
     "name": "stdout",
     "output_type": "stream",
     "text": [
      "Epoch 60/99, Train Loss: 0.2278, Train Accuracy: 0.8589\n"
     ]
    },
    {
     "name": "stderr",
     "output_type": "stream",
     "text": [
      "Val Epoch 60: 100%|██████████| 28/28 [00:03<00:00,  7.50it/s]\n"
     ]
    },
    {
     "name": "stdout",
     "output_type": "stream",
     "text": [
      "Confusion matrix for epoch 60:\n",
      "[[ 7 18]\n",
      " [ 4 82]]\n",
      "Epoch 60/99, Val F1 Score: 0.7707, Val Recall: 0.8018\n",
      "Epoch 60/99, Val Loss: 0.6386, Val Accuracy: 0.8018\n"
     ]
    },
    {
     "name": "stderr",
     "output_type": "stream",
     "text": [
      "Train Epoch 61: 100%|██████████| 250/250 [01:37<00:00,  2.55it/s]\n"
     ]
    },
    {
     "name": "stdout",
     "output_type": "stream",
     "text": [
      "Epoch 61/99, Train Loss: 0.1892, Train Accuracy: 0.8659\n"
     ]
    },
    {
     "name": "stderr",
     "output_type": "stream",
     "text": [
      "Val Epoch 61: 100%|██████████| 28/28 [00:03<00:00,  7.43it/s]\n"
     ]
    },
    {
     "name": "stdout",
     "output_type": "stream",
     "text": [
      "Confusion matrix for epoch 61:\n",
      "[[ 9 16]\n",
      " [ 5 81]]\n",
      "Epoch 61/99, Val F1 Score: 0.7898, Val Recall: 0.8108\n",
      "Epoch 61/99, Val Loss: 0.6137, Val Accuracy: 0.8108\n"
     ]
    },
    {
     "name": "stderr",
     "output_type": "stream",
     "text": [
      "Train Epoch 62: 100%|██████████| 250/250 [01:38<00:00,  2.55it/s]\n"
     ]
    },
    {
     "name": "stdout",
     "output_type": "stream",
     "text": [
      "Epoch 62/99, Train Loss: 0.1778, Train Accuracy: 0.8759\n"
     ]
    },
    {
     "name": "stderr",
     "output_type": "stream",
     "text": [
      "Val Epoch 62: 100%|██████████| 28/28 [00:03<00:00,  7.51it/s]\n"
     ]
    },
    {
     "name": "stdout",
     "output_type": "stream",
     "text": [
      "Confusion matrix for epoch 62:\n",
      "[[10 15]\n",
      " [ 5 81]]\n",
      "Epoch 62/99, Val F1 Score: 0.8022, Val Recall: 0.8198\n",
      "Epoch 62/99, Val Loss: 0.5908, Val Accuracy: 0.8198\n"
     ]
    },
    {
     "name": "stderr",
     "output_type": "stream",
     "text": [
      "Train Epoch 63: 100%|██████████| 250/250 [01:37<00:00,  2.55it/s]\n"
     ]
    },
    {
     "name": "stdout",
     "output_type": "stream",
     "text": [
      "Epoch 63/99, Train Loss: 0.1732, Train Accuracy: 0.8929\n"
     ]
    },
    {
     "name": "stderr",
     "output_type": "stream",
     "text": [
      "Val Epoch 63: 100%|██████████| 28/28 [00:03<00:00,  7.51it/s]\n"
     ]
    },
    {
     "name": "stdout",
     "output_type": "stream",
     "text": [
      "Confusion matrix for epoch 63:\n",
      "[[ 6 19]\n",
      " [ 5 81]]\n",
      "Epoch 63/99, Val F1 Score: 0.7499, Val Recall: 0.7838\n",
      "Epoch 63/99, Val Loss: 0.7256, Val Accuracy: 0.7838\n"
     ]
    },
    {
     "name": "stderr",
     "output_type": "stream",
     "text": [
      "Train Epoch 64: 100%|██████████| 250/250 [01:37<00:00,  2.56it/s]\n"
     ]
    },
    {
     "name": "stdout",
     "output_type": "stream",
     "text": [
      "Epoch 64/99, Train Loss: 0.1880, Train Accuracy: 0.8919\n"
     ]
    },
    {
     "name": "stderr",
     "output_type": "stream",
     "text": [
      "Val Epoch 64: 100%|██████████| 28/28 [00:03<00:00,  7.54it/s]\n"
     ]
    },
    {
     "name": "stdout",
     "output_type": "stream",
     "text": [
      "Confusion matrix for epoch 64:\n",
      "[[ 5 20]\n",
      " [ 3 83]]\n",
      "Epoch 64/99, Val F1 Score: 0.7487, Val Recall: 0.7928\n",
      "Epoch 64/99, Val Loss: 0.7067, Val Accuracy: 0.7928\n"
     ]
    },
    {
     "name": "stderr",
     "output_type": "stream",
     "text": [
      "Train Epoch 65: 100%|██████████| 250/250 [01:38<00:00,  2.54it/s]\n"
     ]
    },
    {
     "name": "stdout",
     "output_type": "stream",
     "text": [
      "Epoch 65/99, Train Loss: 0.1839, Train Accuracy: 0.8839\n"
     ]
    },
    {
     "name": "stderr",
     "output_type": "stream",
     "text": [
      "Val Epoch 65: 100%|██████████| 28/28 [00:03<00:00,  7.44it/s]\n"
     ]
    },
    {
     "name": "stdout",
     "output_type": "stream",
     "text": [
      "Confusion matrix for epoch 65:\n",
      "[[ 7 18]\n",
      " [ 6 80]]\n",
      "Epoch 65/99, Val F1 Score: 0.7567, Val Recall: 0.7838\n",
      "Epoch 65/99, Val Loss: 0.6940, Val Accuracy: 0.7838\n"
     ]
    },
    {
     "name": "stderr",
     "output_type": "stream",
     "text": [
      "Train Epoch 66: 100%|██████████| 250/250 [01:38<00:00,  2.55it/s]\n"
     ]
    },
    {
     "name": "stdout",
     "output_type": "stream",
     "text": [
      "Epoch 66/99, Train Loss: 0.1665, Train Accuracy: 0.8849\n"
     ]
    },
    {
     "name": "stderr",
     "output_type": "stream",
     "text": [
      "Val Epoch 66: 100%|██████████| 28/28 [00:03<00:00,  7.54it/s]\n"
     ]
    },
    {
     "name": "stdout",
     "output_type": "stream",
     "text": [
      "Confusion matrix for epoch 66:\n",
      "[[ 7 18]\n",
      " [ 5 81]]\n",
      "Epoch 66/99, Val F1 Score: 0.7637, Val Recall: 0.7928\n",
      "Epoch 66/99, Val Loss: 0.7022, Val Accuracy: 0.7928\n"
     ]
    },
    {
     "name": "stderr",
     "output_type": "stream",
     "text": [
      "Train Epoch 67: 100%|██████████| 250/250 [01:37<00:00,  2.56it/s]\n"
     ]
    },
    {
     "name": "stdout",
     "output_type": "stream",
     "text": [
      "Epoch 67/99, Train Loss: 0.1530, Train Accuracy: 0.8969\n"
     ]
    },
    {
     "name": "stderr",
     "output_type": "stream",
     "text": [
      "Val Epoch 67: 100%|██████████| 28/28 [00:03<00:00,  7.41it/s]\n"
     ]
    },
    {
     "name": "stdout",
     "output_type": "stream",
     "text": [
      "Confusion matrix for epoch 67:\n",
      "[[ 5 20]\n",
      " [ 4 82]]\n",
      "Epoch 67/99, Val F1 Score: 0.7421, Val Recall: 0.7838\n",
      "Epoch 67/99, Val Loss: 0.6800, Val Accuracy: 0.7838\n"
     ]
    },
    {
     "name": "stderr",
     "output_type": "stream",
     "text": [
      "Train Epoch 68: 100%|██████████| 250/250 [01:38<00:00,  2.53it/s]\n"
     ]
    },
    {
     "name": "stdout",
     "output_type": "stream",
     "text": [
      "Epoch 68/99, Train Loss: 0.1580, Train Accuracy: 0.8919\n"
     ]
    },
    {
     "name": "stderr",
     "output_type": "stream",
     "text": [
      "Val Epoch 68: 100%|██████████| 28/28 [00:03<00:00,  7.43it/s]\n"
     ]
    },
    {
     "name": "stdout",
     "output_type": "stream",
     "text": [
      "Confusion matrix for epoch 68:\n",
      "[[ 7 18]\n",
      " [ 4 82]]\n",
      "Epoch 68/99, Val F1 Score: 0.7707, Val Recall: 0.8018\n",
      "Epoch 68/99, Val Loss: 0.6149, Val Accuracy: 0.8018\n"
     ]
    },
    {
     "name": "stderr",
     "output_type": "stream",
     "text": [
      "Train Epoch 69: 100%|██████████| 250/250 [01:38<00:00,  2.54it/s]\n"
     ]
    },
    {
     "name": "stdout",
     "output_type": "stream",
     "text": [
      "Epoch 69/99, Train Loss: 0.1622, Train Accuracy: 0.8989\n"
     ]
    },
    {
     "name": "stderr",
     "output_type": "stream",
     "text": [
      "Val Epoch 69: 100%|██████████| 28/28 [00:03<00:00,  7.36it/s]\n"
     ]
    },
    {
     "name": "stdout",
     "output_type": "stream",
     "text": [
      "Confusion matrix for epoch 69:\n",
      "[[ 5 20]\n",
      " [ 5 81]]\n",
      "Epoch 69/99, Val F1 Score: 0.7355, Val Recall: 0.7748\n",
      "Epoch 69/99, Val Loss: 0.7777, Val Accuracy: 0.7748\n"
     ]
    },
    {
     "name": "stderr",
     "output_type": "stream",
     "text": [
      "Train Epoch 70: 100%|██████████| 250/250 [01:38<00:00,  2.54it/s]\n"
     ]
    },
    {
     "name": "stdout",
     "output_type": "stream",
     "text": [
      "Epoch 70/99, Train Loss: 0.1493, Train Accuracy: 0.8959\n"
     ]
    },
    {
     "name": "stderr",
     "output_type": "stream",
     "text": [
      "Val Epoch 70: 100%|██████████| 28/28 [00:03<00:00,  7.43it/s]\n"
     ]
    },
    {
     "name": "stdout",
     "output_type": "stream",
     "text": [
      "Confusion matrix for epoch 70:\n",
      "[[ 8 17]\n",
      " [ 5 81]]\n",
      "Epoch 70/99, Val F1 Score: 0.7770, Val Recall: 0.8018\n",
      "Epoch 70/99, Val Loss: 0.6649, Val Accuracy: 0.8018\n"
     ]
    },
    {
     "name": "stderr",
     "output_type": "stream",
     "text": [
      "Train Epoch 71: 100%|██████████| 250/250 [01:37<00:00,  2.56it/s]\n"
     ]
    },
    {
     "name": "stdout",
     "output_type": "stream",
     "text": [
      "Epoch 71/99, Train Loss: 0.1464, Train Accuracy: 0.8929\n"
     ]
    },
    {
     "name": "stderr",
     "output_type": "stream",
     "text": [
      "Val Epoch 71: 100%|██████████| 28/28 [00:03<00:00,  7.58it/s]\n"
     ]
    },
    {
     "name": "stdout",
     "output_type": "stream",
     "text": [
      "Confusion matrix for epoch 71:\n",
      "[[ 8 17]\n",
      " [ 5 81]]\n",
      "Epoch 71/99, Val F1 Score: 0.7770, Val Recall: 0.8018\n",
      "Epoch 71/99, Val Loss: 0.6592, Val Accuracy: 0.8018\n"
     ]
    },
    {
     "name": "stderr",
     "output_type": "stream",
     "text": [
      "Train Epoch 72: 100%|██████████| 250/250 [01:37<00:00,  2.56it/s]\n"
     ]
    },
    {
     "name": "stdout",
     "output_type": "stream",
     "text": [
      "Epoch 72/99, Train Loss: 0.1355, Train Accuracy: 0.8989\n"
     ]
    },
    {
     "name": "stderr",
     "output_type": "stream",
     "text": [
      "Val Epoch 72: 100%|██████████| 28/28 [00:03<00:00,  7.55it/s]\n"
     ]
    },
    {
     "name": "stdout",
     "output_type": "stream",
     "text": [
      "Confusion matrix for epoch 72:\n",
      "[[10 15]\n",
      " [ 8 78]]\n",
      "Epoch 72/99, Val F1 Score: 0.7800, Val Recall: 0.7928\n",
      "Epoch 72/99, Val Loss: 0.6475, Val Accuracy: 0.7928\n"
     ]
    },
    {
     "name": "stderr",
     "output_type": "stream",
     "text": [
      "Train Epoch 73: 100%|██████████| 250/250 [01:38<00:00,  2.54it/s]\n"
     ]
    },
    {
     "name": "stdout",
     "output_type": "stream",
     "text": [
      "Epoch 73/99, Train Loss: 0.1439, Train Accuracy: 0.8949\n"
     ]
    },
    {
     "name": "stderr",
     "output_type": "stream",
     "text": [
      "Val Epoch 73: 100%|██████████| 28/28 [00:03<00:00,  7.47it/s]\n"
     ]
    },
    {
     "name": "stdout",
     "output_type": "stream",
     "text": [
      "Confusion matrix for epoch 73:\n",
      "[[11 14]\n",
      " [ 4 82]]\n",
      "Epoch 73/99, Val F1 Score: 0.8220, Val Recall: 0.8378\n",
      "Epoch 73/99, Val Loss: 0.6626, Val Accuracy: 0.8378\n"
     ]
    },
    {
     "name": "stderr",
     "output_type": "stream",
     "text": [
      "Train Epoch 74: 100%|██████████| 250/250 [01:38<00:00,  2.54it/s]\n"
     ]
    },
    {
     "name": "stdout",
     "output_type": "stream",
     "text": [
      "Epoch 74/99, Train Loss: 0.1385, Train Accuracy: 0.9039\n"
     ]
    },
    {
     "name": "stderr",
     "output_type": "stream",
     "text": [
      "Val Epoch 74: 100%|██████████| 28/28 [00:03<00:00,  7.41it/s]\n"
     ]
    },
    {
     "name": "stdout",
     "output_type": "stream",
     "text": [
      "Confusion matrix for epoch 74:\n",
      "[[ 8 17]\n",
      " [ 5 81]]\n",
      "Epoch 74/99, Val F1 Score: 0.7770, Val Recall: 0.8018\n",
      "Epoch 74/99, Val Loss: 0.6996, Val Accuracy: 0.8018\n"
     ]
    },
    {
     "name": "stderr",
     "output_type": "stream",
     "text": [
      "Train Epoch 75: 100%|██████████| 250/250 [01:38<00:00,  2.55it/s]\n"
     ]
    },
    {
     "name": "stdout",
     "output_type": "stream",
     "text": [
      "Epoch 75/99, Train Loss: 0.1435, Train Accuracy: 0.8969\n"
     ]
    },
    {
     "name": "stderr",
     "output_type": "stream",
     "text": [
      "Val Epoch 75: 100%|██████████| 28/28 [00:03<00:00,  7.51it/s]\n"
     ]
    },
    {
     "name": "stdout",
     "output_type": "stream",
     "text": [
      "Confusion matrix for epoch 75:\n",
      "[[10 15]\n",
      " [ 5 81]]\n",
      "Epoch 75/99, Val F1 Score: 0.8022, Val Recall: 0.8198\n",
      "Epoch 75/99, Val Loss: 0.6490, Val Accuracy: 0.8198\n"
     ]
    },
    {
     "name": "stderr",
     "output_type": "stream",
     "text": [
      "Train Epoch 76: 100%|██████████| 250/250 [01:38<00:00,  2.54it/s]\n"
     ]
    },
    {
     "name": "stdout",
     "output_type": "stream",
     "text": [
      "Epoch 76/99, Train Loss: 0.1103, Train Accuracy: 0.9209\n"
     ]
    },
    {
     "name": "stderr",
     "output_type": "stream",
     "text": [
      "Val Epoch 76: 100%|██████████| 28/28 [00:03<00:00,  7.37it/s]\n"
     ]
    },
    {
     "name": "stdout",
     "output_type": "stream",
     "text": [
      "Confusion matrix for epoch 76:\n",
      "[[ 6 19]\n",
      " [ 4 82]]\n",
      "Epoch 76/99, Val F1 Score: 0.7567, Val Recall: 0.7928\n",
      "Epoch 76/99, Val Loss: 0.7865, Val Accuracy: 0.7928\n"
     ]
    },
    {
     "name": "stderr",
     "output_type": "stream",
     "text": [
      "Train Epoch 77: 100%|██████████| 250/250 [01:38<00:00,  2.55it/s]\n"
     ]
    },
    {
     "name": "stdout",
     "output_type": "stream",
     "text": [
      "Epoch 77/99, Train Loss: 0.1429, Train Accuracy: 0.8979\n"
     ]
    },
    {
     "name": "stderr",
     "output_type": "stream",
     "text": [
      "Val Epoch 77: 100%|██████████| 28/28 [00:03<00:00,  7.40it/s]\n"
     ]
    },
    {
     "name": "stdout",
     "output_type": "stream",
     "text": [
      "Confusion matrix for epoch 77:\n",
      "[[ 6 19]\n",
      " [ 4 82]]\n",
      "Epoch 77/99, Val F1 Score: 0.7567, Val Recall: 0.7928\n",
      "Epoch 77/99, Val Loss: 0.7190, Val Accuracy: 0.7928\n"
     ]
    },
    {
     "name": "stderr",
     "output_type": "stream",
     "text": [
      "Train Epoch 78: 100%|██████████| 250/250 [01:37<00:00,  2.56it/s]\n"
     ]
    },
    {
     "name": "stdout",
     "output_type": "stream",
     "text": [
      "Epoch 78/99, Train Loss: 0.1146, Train Accuracy: 0.9179\n"
     ]
    },
    {
     "name": "stderr",
     "output_type": "stream",
     "text": [
      "Val Epoch 78: 100%|██████████| 28/28 [00:03<00:00,  7.45it/s]\n"
     ]
    },
    {
     "name": "stdout",
     "output_type": "stream",
     "text": [
      "Confusion matrix for epoch 78:\n",
      "[[ 6 19]\n",
      " [ 4 82]]\n",
      "Epoch 78/99, Val F1 Score: 0.7567, Val Recall: 0.7928\n",
      "Epoch 78/99, Val Loss: 0.7959, Val Accuracy: 0.7928\n"
     ]
    },
    {
     "name": "stderr",
     "output_type": "stream",
     "text": [
      "Train Epoch 79: 100%|██████████| 250/250 [01:38<00:00,  2.54it/s]\n"
     ]
    },
    {
     "name": "stdout",
     "output_type": "stream",
     "text": [
      "Epoch 79/99, Train Loss: 0.1340, Train Accuracy: 0.8969\n"
     ]
    },
    {
     "name": "stderr",
     "output_type": "stream",
     "text": [
      "Val Epoch 79: 100%|██████████| 28/28 [00:03<00:00,  7.40it/s]\n"
     ]
    },
    {
     "name": "stdout",
     "output_type": "stream",
     "text": [
      "Confusion matrix for epoch 79:\n",
      "[[ 8 17]\n",
      " [ 4 82]]\n",
      "Epoch 79/99, Val F1 Score: 0.7842, Val Recall: 0.8108\n",
      "Epoch 79/99, Val Loss: 0.6963, Val Accuracy: 0.8108\n"
     ]
    },
    {
     "name": "stderr",
     "output_type": "stream",
     "text": [
      "Train Epoch 80: 100%|██████████| 250/250 [01:38<00:00,  2.55it/s]\n"
     ]
    },
    {
     "name": "stdout",
     "output_type": "stream",
     "text": [
      "Epoch 80/99, Train Loss: 0.1164, Train Accuracy: 0.9159\n"
     ]
    },
    {
     "name": "stderr",
     "output_type": "stream",
     "text": [
      "Val Epoch 80: 100%|██████████| 28/28 [00:03<00:00,  7.49it/s]\n"
     ]
    },
    {
     "name": "stdout",
     "output_type": "stream",
     "text": [
      "Confusion matrix for epoch 80:\n",
      "[[ 6 19]\n",
      " [ 5 81]]\n",
      "Epoch 80/99, Val F1 Score: 0.7499, Val Recall: 0.7838\n",
      "Epoch 80/99, Val Loss: 0.8265, Val Accuracy: 0.7838\n"
     ]
    },
    {
     "name": "stderr",
     "output_type": "stream",
     "text": [
      "Train Epoch 81: 100%|██████████| 250/250 [01:37<00:00,  2.56it/s]\n"
     ]
    },
    {
     "name": "stdout",
     "output_type": "stream",
     "text": [
      "Epoch 81/99, Train Loss: 0.0983, Train Accuracy: 0.9319\n"
     ]
    },
    {
     "name": "stderr",
     "output_type": "stream",
     "text": [
      "Val Epoch 81: 100%|██████████| 28/28 [00:03<00:00,  7.39it/s]\n"
     ]
    },
    {
     "name": "stdout",
     "output_type": "stream",
     "text": [
      "Confusion matrix for epoch 81:\n",
      "[[ 8 17]\n",
      " [ 5 81]]\n",
      "Epoch 81/99, Val F1 Score: 0.7770, Val Recall: 0.8018\n",
      "Epoch 81/99, Val Loss: 0.7767, Val Accuracy: 0.8018\n"
     ]
    },
    {
     "name": "stderr",
     "output_type": "stream",
     "text": [
      "Train Epoch 82: 100%|██████████| 250/250 [01:38<00:00,  2.54it/s]\n"
     ]
    },
    {
     "name": "stdout",
     "output_type": "stream",
     "text": [
      "Epoch 82/99, Train Loss: 0.1221, Train Accuracy: 0.9039\n"
     ]
    },
    {
     "name": "stderr",
     "output_type": "stream",
     "text": [
      "Val Epoch 82: 100%|██████████| 28/28 [00:03<00:00,  7.43it/s]\n"
     ]
    },
    {
     "name": "stdout",
     "output_type": "stream",
     "text": [
      "Confusion matrix for epoch 82:\n",
      "[[ 9 16]\n",
      " [ 5 81]]\n",
      "Epoch 82/99, Val F1 Score: 0.7898, Val Recall: 0.8108\n",
      "Epoch 82/99, Val Loss: 0.7001, Val Accuracy: 0.8108\n"
     ]
    },
    {
     "name": "stderr",
     "output_type": "stream",
     "text": [
      "Train Epoch 83: 100%|██████████| 250/250 [01:37<00:00,  2.55it/s]\n"
     ]
    },
    {
     "name": "stdout",
     "output_type": "stream",
     "text": [
      "Epoch 83/99, Train Loss: 0.1123, Train Accuracy: 0.9139\n"
     ]
    },
    {
     "name": "stderr",
     "output_type": "stream",
     "text": [
      "Val Epoch 83: 100%|██████████| 28/28 [00:03<00:00,  7.48it/s]\n"
     ]
    },
    {
     "name": "stdout",
     "output_type": "stream",
     "text": [
      "Confusion matrix for epoch 83:\n",
      "[[ 6 19]\n",
      " [ 4 82]]\n",
      "Epoch 83/99, Val F1 Score: 0.7567, Val Recall: 0.7928\n",
      "Epoch 83/99, Val Loss: 0.8710, Val Accuracy: 0.7928\n"
     ]
    },
    {
     "name": "stderr",
     "output_type": "stream",
     "text": [
      "Train Epoch 84: 100%|██████████| 250/250 [01:38<00:00,  2.53it/s]\n"
     ]
    },
    {
     "name": "stdout",
     "output_type": "stream",
     "text": [
      "Epoch 84/99, Train Loss: 0.1149, Train Accuracy: 0.9169\n"
     ]
    },
    {
     "name": "stderr",
     "output_type": "stream",
     "text": [
      "Val Epoch 84: 100%|██████████| 28/28 [00:03<00:00,  7.55it/s]\n"
     ]
    },
    {
     "name": "stdout",
     "output_type": "stream",
     "text": [
      "Confusion matrix for epoch 84:\n",
      "[[ 7 18]\n",
      " [ 5 81]]\n",
      "Epoch 84/99, Val F1 Score: 0.7637, Val Recall: 0.7928\n",
      "Epoch 84/99, Val Loss: 0.7122, Val Accuracy: 0.7928\n"
     ]
    },
    {
     "name": "stderr",
     "output_type": "stream",
     "text": [
      "Train Epoch 85: 100%|██████████| 250/250 [01:37<00:00,  2.56it/s]\n"
     ]
    },
    {
     "name": "stdout",
     "output_type": "stream",
     "text": [
      "Epoch 85/99, Train Loss: 0.1159, Train Accuracy: 0.9149\n"
     ]
    },
    {
     "name": "stderr",
     "output_type": "stream",
     "text": [
      "Val Epoch 85: 100%|██████████| 28/28 [00:03<00:00,  7.67it/s]\n"
     ]
    },
    {
     "name": "stdout",
     "output_type": "stream",
     "text": [
      "Confusion matrix for epoch 85:\n",
      "[[ 8 17]\n",
      " [ 5 81]]\n",
      "Epoch 85/99, Val F1 Score: 0.7770, Val Recall: 0.8018\n",
      "Epoch 85/99, Val Loss: 0.7098, Val Accuracy: 0.8018\n"
     ]
    },
    {
     "name": "stderr",
     "output_type": "stream",
     "text": [
      "Train Epoch 86: 100%|██████████| 250/250 [01:38<00:00,  2.54it/s]\n"
     ]
    },
    {
     "name": "stdout",
     "output_type": "stream",
     "text": [
      "Epoch 86/99, Train Loss: 0.1091, Train Accuracy: 0.9059\n"
     ]
    },
    {
     "name": "stderr",
     "output_type": "stream",
     "text": [
      "Val Epoch 86: 100%|██████████| 28/28 [00:03<00:00,  7.44it/s]\n"
     ]
    },
    {
     "name": "stdout",
     "output_type": "stream",
     "text": [
      "Confusion matrix for epoch 86:\n",
      "[[ 6 19]\n",
      " [ 4 82]]\n",
      "Epoch 86/99, Val F1 Score: 0.7567, Val Recall: 0.7928\n",
      "Epoch 86/99, Val Loss: 0.8238, Val Accuracy: 0.7928\n"
     ]
    },
    {
     "name": "stderr",
     "output_type": "stream",
     "text": [
      "Train Epoch 87: 100%|██████████| 250/250 [01:38<00:00,  2.54it/s]\n"
     ]
    },
    {
     "name": "stdout",
     "output_type": "stream",
     "text": [
      "Epoch 87/99, Train Loss: 0.1195, Train Accuracy: 0.9029\n"
     ]
    },
    {
     "name": "stderr",
     "output_type": "stream",
     "text": [
      "Val Epoch 87: 100%|██████████| 28/28 [00:03<00:00,  7.41it/s]\n"
     ]
    },
    {
     "name": "stdout",
     "output_type": "stream",
     "text": [
      "Confusion matrix for epoch 87:\n",
      "[[ 7 18]\n",
      " [ 4 82]]\n",
      "Epoch 87/99, Val F1 Score: 0.7707, Val Recall: 0.8018\n",
      "Epoch 87/99, Val Loss: 0.7977, Val Accuracy: 0.8018\n"
     ]
    },
    {
     "name": "stderr",
     "output_type": "stream",
     "text": [
      "Train Epoch 88: 100%|██████████| 250/250 [01:37<00:00,  2.55it/s]\n"
     ]
    },
    {
     "name": "stdout",
     "output_type": "stream",
     "text": [
      "Epoch 88/99, Train Loss: 0.1082, Train Accuracy: 0.9109\n"
     ]
    },
    {
     "name": "stderr",
     "output_type": "stream",
     "text": [
      "Val Epoch 88: 100%|██████████| 28/28 [00:03<00:00,  7.47it/s]\n"
     ]
    },
    {
     "name": "stdout",
     "output_type": "stream",
     "text": [
      "Confusion matrix for epoch 88:\n",
      "[[ 8 17]\n",
      " [ 5 81]]\n",
      "Epoch 88/99, Val F1 Score: 0.7770, Val Recall: 0.8018\n",
      "Epoch 88/99, Val Loss: 0.7652, Val Accuracy: 0.8018\n"
     ]
    },
    {
     "name": "stderr",
     "output_type": "stream",
     "text": [
      "Train Epoch 89: 100%|██████████| 250/250 [01:37<00:00,  2.55it/s]\n"
     ]
    },
    {
     "name": "stdout",
     "output_type": "stream",
     "text": [
      "Epoch 89/99, Train Loss: 0.1025, Train Accuracy: 0.9069\n"
     ]
    },
    {
     "name": "stderr",
     "output_type": "stream",
     "text": [
      "Val Epoch 89: 100%|██████████| 28/28 [00:03<00:00,  7.51it/s]\n"
     ]
    },
    {
     "name": "stdout",
     "output_type": "stream",
     "text": [
      "Confusion matrix for epoch 89:\n",
      "[[ 7 18]\n",
      " [ 4 82]]\n",
      "Epoch 89/99, Val F1 Score: 0.7707, Val Recall: 0.8018\n",
      "Epoch 89/99, Val Loss: 0.8082, Val Accuracy: 0.8018\n"
     ]
    },
    {
     "name": "stderr",
     "output_type": "stream",
     "text": [
      "Train Epoch 90: 100%|██████████| 250/250 [01:37<00:00,  2.56it/s]\n"
     ]
    },
    {
     "name": "stdout",
     "output_type": "stream",
     "text": [
      "Epoch 90/99, Train Loss: 0.1081, Train Accuracy: 0.9119\n"
     ]
    },
    {
     "name": "stderr",
     "output_type": "stream",
     "text": [
      "Val Epoch 90: 100%|██████████| 28/28 [00:03<00:00,  7.51it/s]\n"
     ]
    },
    {
     "name": "stdout",
     "output_type": "stream",
     "text": [
      "Confusion matrix for epoch 90:\n",
      "[[ 9 16]\n",
      " [ 6 80]]\n",
      "Epoch 90/99, Val F1 Score: 0.7825, Val Recall: 0.8018\n",
      "Epoch 90/99, Val Loss: 0.7620, Val Accuracy: 0.8018\n"
     ]
    },
    {
     "name": "stderr",
     "output_type": "stream",
     "text": [
      "Train Epoch 91: 100%|██████████| 250/250 [01:38<00:00,  2.55it/s]\n"
     ]
    },
    {
     "name": "stdout",
     "output_type": "stream",
     "text": [
      "Epoch 91/99, Train Loss: 0.1236, Train Accuracy: 0.9019\n"
     ]
    },
    {
     "name": "stderr",
     "output_type": "stream",
     "text": [
      "Val Epoch 91: 100%|██████████| 28/28 [00:03<00:00,  7.46it/s]\n"
     ]
    },
    {
     "name": "stdout",
     "output_type": "stream",
     "text": [
      "Confusion matrix for epoch 91:\n",
      "[[12 13]\n",
      " [ 7 79]]\n",
      "Epoch 91/99, Val F1 Score: 0.8106, Val Recall: 0.8198\n",
      "Epoch 91/99, Val Loss: 0.6959, Val Accuracy: 0.8198\n"
     ]
    },
    {
     "name": "stderr",
     "output_type": "stream",
     "text": [
      "Train Epoch 92: 100%|██████████| 250/250 [01:37<00:00,  2.55it/s]\n"
     ]
    },
    {
     "name": "stdout",
     "output_type": "stream",
     "text": [
      "Epoch 92/99, Train Loss: 0.1165, Train Accuracy: 0.9009\n"
     ]
    },
    {
     "name": "stderr",
     "output_type": "stream",
     "text": [
      "Val Epoch 92: 100%|██████████| 28/28 [00:03<00:00,  7.44it/s]\n"
     ]
    },
    {
     "name": "stdout",
     "output_type": "stream",
     "text": [
      "Confusion matrix for epoch 92:\n",
      "[[ 7 18]\n",
      " [ 5 81]]\n",
      "Epoch 92/99, Val F1 Score: 0.7637, Val Recall: 0.7928\n",
      "Epoch 92/99, Val Loss: 0.8191, Val Accuracy: 0.7928\n"
     ]
    },
    {
     "name": "stderr",
     "output_type": "stream",
     "text": [
      "Train Epoch 93: 100%|██████████| 250/250 [01:37<00:00,  2.57it/s]\n"
     ]
    },
    {
     "name": "stdout",
     "output_type": "stream",
     "text": [
      "Epoch 93/99, Train Loss: 0.1016, Train Accuracy: 0.9129\n"
     ]
    },
    {
     "name": "stderr",
     "output_type": "stream",
     "text": [
      "Val Epoch 93: 100%|██████████| 28/28 [00:03<00:00,  7.48it/s]\n"
     ]
    },
    {
     "name": "stdout",
     "output_type": "stream",
     "text": [
      "Confusion matrix for epoch 93:\n",
      "[[ 7 18]\n",
      " [ 4 82]]\n",
      "Epoch 93/99, Val F1 Score: 0.7707, Val Recall: 0.8018\n",
      "Epoch 93/99, Val Loss: 0.7983, Val Accuracy: 0.8018\n"
     ]
    },
    {
     "name": "stderr",
     "output_type": "stream",
     "text": [
      "Train Epoch 94: 100%|██████████| 250/250 [01:38<00:00,  2.54it/s]\n"
     ]
    },
    {
     "name": "stdout",
     "output_type": "stream",
     "text": [
      "Epoch 94/99, Train Loss: 0.1002, Train Accuracy: 0.9229\n"
     ]
    },
    {
     "name": "stderr",
     "output_type": "stream",
     "text": [
      "Val Epoch 94: 100%|██████████| 28/28 [00:03<00:00,  7.41it/s]\n"
     ]
    },
    {
     "name": "stdout",
     "output_type": "stream",
     "text": [
      "Confusion matrix for epoch 94:\n",
      "[[ 8 17]\n",
      " [ 4 82]]\n",
      "Epoch 94/99, Val F1 Score: 0.7842, Val Recall: 0.8108\n",
      "Epoch 94/99, Val Loss: 0.8094, Val Accuracy: 0.8108\n"
     ]
    },
    {
     "name": "stderr",
     "output_type": "stream",
     "text": [
      "Train Epoch 95: 100%|██████████| 250/250 [01:38<00:00,  2.54it/s]\n"
     ]
    },
    {
     "name": "stdout",
     "output_type": "stream",
     "text": [
      "Epoch 95/99, Train Loss: 0.0982, Train Accuracy: 0.9229\n"
     ]
    },
    {
     "name": "stderr",
     "output_type": "stream",
     "text": [
      "Val Epoch 95: 100%|██████████| 28/28 [00:03<00:00,  7.43it/s]\n"
     ]
    },
    {
     "name": "stdout",
     "output_type": "stream",
     "text": [
      "Confusion matrix for epoch 95:\n",
      "[[ 8 17]\n",
      " [ 5 81]]\n",
      "Epoch 95/99, Val F1 Score: 0.7770, Val Recall: 0.8018\n",
      "Epoch 95/99, Val Loss: 0.7883, Val Accuracy: 0.8018\n"
     ]
    },
    {
     "name": "stderr",
     "output_type": "stream",
     "text": [
      "Train Epoch 96: 100%|██████████| 250/250 [01:37<00:00,  2.56it/s]\n"
     ]
    },
    {
     "name": "stdout",
     "output_type": "stream",
     "text": [
      "Epoch 96/99, Train Loss: 0.1240, Train Accuracy: 0.8959\n"
     ]
    },
    {
     "name": "stderr",
     "output_type": "stream",
     "text": [
      "Val Epoch 96: 100%|██████████| 28/28 [00:03<00:00,  7.47it/s]\n"
     ]
    },
    {
     "name": "stdout",
     "output_type": "stream",
     "text": [
      "Confusion matrix for epoch 96:\n",
      "[[ 9 16]\n",
      " [ 5 81]]\n",
      "Epoch 96/99, Val F1 Score: 0.7898, Val Recall: 0.8108\n",
      "Epoch 96/99, Val Loss: 0.7255, Val Accuracy: 0.8108\n"
     ]
    },
    {
     "name": "stderr",
     "output_type": "stream",
     "text": [
      "Train Epoch 97: 100%|██████████| 250/250 [01:38<00:00,  2.55it/s]\n"
     ]
    },
    {
     "name": "stdout",
     "output_type": "stream",
     "text": [
      "Epoch 97/99, Train Loss: 0.1147, Train Accuracy: 0.9059\n"
     ]
    },
    {
     "name": "stderr",
     "output_type": "stream",
     "text": [
      "Val Epoch 97: 100%|██████████| 28/28 [00:03<00:00,  7.43it/s]\n"
     ]
    },
    {
     "name": "stdout",
     "output_type": "stream",
     "text": [
      "Confusion matrix for epoch 97:\n",
      "[[ 8 17]\n",
      " [ 5 81]]\n",
      "Epoch 97/99, Val F1 Score: 0.7770, Val Recall: 0.8018\n",
      "Epoch 97/99, Val Loss: 0.7756, Val Accuracy: 0.8018\n"
     ]
    },
    {
     "name": "stderr",
     "output_type": "stream",
     "text": [
      "Train Epoch 98: 100%|██████████| 250/250 [01:37<00:00,  2.55it/s]\n"
     ]
    },
    {
     "name": "stdout",
     "output_type": "stream",
     "text": [
      "Epoch 98/99, Train Loss: 0.1093, Train Accuracy: 0.9209\n"
     ]
    },
    {
     "name": "stderr",
     "output_type": "stream",
     "text": [
      "Val Epoch 98: 100%|██████████| 28/28 [00:03<00:00,  7.49it/s]\n"
     ]
    },
    {
     "name": "stdout",
     "output_type": "stream",
     "text": [
      "Confusion matrix for epoch 98:\n",
      "[[ 7 18]\n",
      " [ 4 82]]\n",
      "Epoch 98/99, Val F1 Score: 0.7707, Val Recall: 0.8018\n",
      "Epoch 98/99, Val Loss: 0.8064, Val Accuracy: 0.8018\n"
     ]
    },
    {
     "name": "stderr",
     "output_type": "stream",
     "text": [
      "Train Epoch 99: 100%|██████████| 250/250 [01:38<00:00,  2.55it/s]\n"
     ]
    },
    {
     "name": "stdout",
     "output_type": "stream",
     "text": [
      "Epoch 99/99, Train Loss: 0.0926, Train Accuracy: 0.9219\n"
     ]
    },
    {
     "name": "stderr",
     "output_type": "stream",
     "text": [
      "Val Epoch 99: 100%|██████████| 28/28 [00:03<00:00,  7.54it/s]\n"
     ]
    },
    {
     "name": "stdout",
     "output_type": "stream",
     "text": [
      "Confusion matrix for epoch 99:\n",
      "[[ 9 16]\n",
      " [ 6 80]]\n",
      "Epoch 99/99, Val F1 Score: 0.7825, Val Recall: 0.8018\n",
      "Epoch 99/99, Val Loss: 0.7417, Val Accuracy: 0.8018\n",
      "Training complete. Best validation accuracy: 0.8378 at epoch 22\n"
     ]
    }
   ],
   "source": [
    "from sklearn.metrics import confusion_matrix, f1_score, recall_score\n",
    "import tqdm\n",
    "import ipdb\n",
    "from torch.utils.tensorboard import SummaryWriter\n",
    "\n",
    "writer = SummaryWriter()\n",
    "\n",
    "# ... (all previous code remains the same)\n",
    "num_epochs = 100\n",
    "best_val_acc = 0.0\n",
    "best_epoch = 0\n",
    "\n",
    "for epoch in range(num_epochs):\n",
    "    for phase in ['train', 'val']:\n",
    "        if phase == 'train':\n",
    "            model.train()\n",
    "            data_loader = train_loader\n",
    "            dataset = train_dataset\n",
    "        else:\n",
    "            model.eval()\n",
    "            data_loader = validation_loader\n",
    "            dataset = val_dataset\n",
    "\n",
    "        running_loss = 0.0\n",
    "        running_corrects = 0\n",
    "        all_preds = []\n",
    "        all_labels = []\n",
    "\n",
    "        for inputs, labels in tqdm.tqdm(data_loader, desc=f\"{phase.capitalize()} Epoch {epoch}\"):\n",
    "            inputs, labels = inputs.to(device), labels.to(device)\n",
    "            optimizer.zero_grad()\n",
    "\n",
    "            with torch.set_grad_enabled(phase == 'train'):\n",
    "                outputs = model(inputs)\n",
    "                outputs = outputs.view(-1)\n",
    "                loss = criterion(outputs, labels.float())\n",
    "                \n",
    "                preds = (outputs > 0.5).float()\n",
    "\n",
    "                if phase == 'train':\n",
    "                    loss.backward()\n",
    "                    optimizer.step()\n",
    "\n",
    "            running_loss += loss.item() * inputs.size(0)\n",
    "            running_corrects += torch.sum(preds == labels.data)\n",
    "            # ipdb.set_trace(context=5)\n",
    "            all_preds.extend(preds.cpu().numpy())\n",
    "            all_labels.extend(labels.cpu().numpy())\n",
    "\n",
    "        epoch_loss = running_loss / len(dataset)\n",
    "        epoch_acc = running_corrects.double() / len(dataset)\n",
    "\n",
    "        if phase == 'val':\n",
    "            # Calculate confusion matrix, F1 score, and recall\n",
    "            conf_matrix = confusion_matrix(all_labels, all_preds)\n",
    "            f1 = f1_score(all_labels, all_preds, average='weighted')\n",
    "            recall = recall_score(all_labels, all_preds, average='weighted')\n",
    "\n",
    "            # Print confusion matrix, F1 score, and recall\n",
    "            print(f\"Confusion matrix for epoch {epoch}:\\n{conf_matrix}\")\n",
    "            print(f'Epoch {epoch}/{num_epochs - 1}, {phase.capitalize()} F1 Score: {f1:.4f}, {phase.capitalize()} Recall: {recall:.4f}')\n",
    "\n",
    "            # Log confusion matrix to TensorBoard\n",
    "            writer.add_figure(\"Confusion Matrix/val\", plot_confusion_matrix(conf_matrix, [\"Normal\", \"Abnormal\"]), epoch)\n",
    "\n",
    "        if phase == 'train':\n",
    "            scheduler.step()\n",
    "            writer.add_scalar('Loss/train', epoch_loss, epoch)\n",
    "            writer.add_scalar('Accuracy/train', epoch_acc, epoch)\n",
    "        else:\n",
    "            writer.add_scalar('Loss/val', epoch_loss, epoch)\n",
    "            writer.add_scalar('Accuracy/val', epoch_acc, epoch)\n",
    "\n",
    "        print(f'Epoch {epoch}/{num_epochs - 1}, {phase.capitalize()} Loss: {epoch_loss:.4f}, {phase.capitalize()} Accuracy: {epoch_acc:.4f}')\n",
    "\n",
    "        if phase == 'val' and epoch_acc > best_val_acc:\n",
    "            best_val_acc = epoch_acc\n",
    "            best_epoch = epoch\n",
    "            best_model_wts = model.state_dict()\n",
    "\n",
    "torch.save(best_model_wts, '3d_image_classification.pth')\n",
    "print(f\"Training complete. Best validation accuracy: {best_val_acc:.4f} at epoch {best_epoch}\")\n"
   ]
  }
 ],
 "metadata": {
  "kernelspec": {
   "display_name": "Python 3 (ipykernel)",
   "language": "python",
   "name": "python3"
  },
  "language_info": {
   "codemirror_mode": {
    "name": "ipython",
    "version": 3
   },
   "file_extension": ".py",
   "mimetype": "text/x-python",
   "name": "python",
   "nbconvert_exporter": "python",
   "pygments_lexer": "ipython3",
   "version": "3.9.16"
  }
 },
 "nbformat": 4,
 "nbformat_minor": 5
}
